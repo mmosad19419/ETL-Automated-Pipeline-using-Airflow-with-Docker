{
 "cells": [
  {
   "cell_type": "markdown",
   "id": "161cdef9",
   "metadata": {},
   "source": [
    "# Data Analytics for UK Accidents 1983 Dataset\n",
    "\n",
    "## Content:\n",
    "#### 1. Data Exploration(EDA) and Visualization\n",
    "#### 2. Data Cleaning\n",
    "#### 3. Data Transformation and Feature Engineering"
   ]
  },
  {
   "cell_type": "code",
   "execution_count": 1,
   "id": "1ac92f5c",
   "metadata": {},
   "outputs": [],
   "source": [
    "# Import Libs\n",
    "import pandas as pd\n",
    "import numpy as np\n",
    "import matplotlib.pyplot as plt\n",
    "import seaborn as sns"
   ]
  },
  {
   "cell_type": "code",
   "execution_count": 2,
   "id": "64b8ebe8",
   "metadata": {},
   "outputs": [
    {
     "name": "stderr",
     "output_type": "stream",
     "text": [
      "C:\\Users\\original\\anaconda3\\lib\\site-packages\\IPython\\core\\interactiveshell.py:3444: DtypeWarning: Columns (14) have mixed types.Specify dtype option on import or set low_memory=False.\n",
      "  exec(code_obj, self.user_global_ns, self.user_ns)\n"
     ]
    }
   ],
   "source": [
    "# read data into df\n",
    "df = pd.read_csv(\"./Datasets/1983_Accidents_UK.csv\")"
   ]
  },
  {
   "cell_type": "markdown",
   "id": "dcddb9fd",
   "metadata": {},
   "source": [
    "### 1. Data Exploration(EDA) and Visualization"
   ]
  },
  {
   "cell_type": "code",
   "execution_count": 3,
   "id": "ad0a6a16",
   "metadata": {},
   "outputs": [
    {
     "data": {
      "text/html": [
       "<div>\n",
       "<style scoped>\n",
       "    .dataframe tbody tr th:only-of-type {\n",
       "        vertical-align: middle;\n",
       "    }\n",
       "\n",
       "    .dataframe tbody tr th {\n",
       "        vertical-align: top;\n",
       "    }\n",
       "\n",
       "    .dataframe thead th {\n",
       "        text-align: right;\n",
       "    }\n",
       "</style>\n",
       "<table border=\"1\" class=\"dataframe\">\n",
       "  <thead>\n",
       "    <tr style=\"text-align: right;\">\n",
       "      <th></th>\n",
       "      <th>accident_index</th>\n",
       "      <th>accident_year</th>\n",
       "      <th>accident_reference</th>\n",
       "      <th>location_easting_osgr</th>\n",
       "      <th>location_northing_osgr</th>\n",
       "      <th>longitude</th>\n",
       "      <th>latitude</th>\n",
       "      <th>police_force</th>\n",
       "      <th>accident_severity</th>\n",
       "      <th>number_of_vehicles</th>\n",
       "      <th>...</th>\n",
       "      <th>pedestrian_crossing_physical_facilities</th>\n",
       "      <th>light_conditions</th>\n",
       "      <th>weather_conditions</th>\n",
       "      <th>road_surface_conditions</th>\n",
       "      <th>special_conditions_at_site</th>\n",
       "      <th>carriageway_hazards</th>\n",
       "      <th>urban_or_rural_area</th>\n",
       "      <th>did_police_officer_attend_scene_of_accident</th>\n",
       "      <th>trunk_road_flag</th>\n",
       "      <th>lsoa_of_accident_location</th>\n",
       "    </tr>\n",
       "  </thead>\n",
       "  <tbody>\n",
       "    <tr>\n",
       "      <th>0</th>\n",
       "      <td>1983010AD0001</td>\n",
       "      <td>1983</td>\n",
       "      <td>010AD0001</td>\n",
       "      <td>530080.0</td>\n",
       "      <td>180430.0</td>\n",
       "      <td>NaN</td>\n",
       "      <td>NaN</td>\n",
       "      <td>Metropolitan Police</td>\n",
       "      <td>Slight</td>\n",
       "      <td>2</td>\n",
       "      <td>...</td>\n",
       "      <td>Pedestrian phase at traffic signal junction</td>\n",
       "      <td>Darkness - lights lit</td>\n",
       "      <td>Raining + high winds</td>\n",
       "      <td>Wet or damp</td>\n",
       "      <td>None</td>\n",
       "      <td>None</td>\n",
       "      <td>Data missing or out of range</td>\n",
       "      <td>Data missing or out of range</td>\n",
       "      <td>Data missing or out of range</td>\n",
       "      <td>-1</td>\n",
       "    </tr>\n",
       "    <tr>\n",
       "      <th>1</th>\n",
       "      <td>1983010AD0002</td>\n",
       "      <td>1983</td>\n",
       "      <td>010AD0002</td>\n",
       "      <td>530120.0</td>\n",
       "      <td>179580.0</td>\n",
       "      <td>NaN</td>\n",
       "      <td>NaN</td>\n",
       "      <td>Metropolitan Police</td>\n",
       "      <td>Slight</td>\n",
       "      <td>2</td>\n",
       "      <td>...</td>\n",
       "      <td>No physical crossing facilities within 50 metres</td>\n",
       "      <td>Darkness - lights lit</td>\n",
       "      <td>Fine no high winds</td>\n",
       "      <td>Dry</td>\n",
       "      <td>None</td>\n",
       "      <td>None</td>\n",
       "      <td>Data missing or out of range</td>\n",
       "      <td>Data missing or out of range</td>\n",
       "      <td>Data missing or out of range</td>\n",
       "      <td>-1</td>\n",
       "    </tr>\n",
       "    <tr>\n",
       "      <th>2</th>\n",
       "      <td>1983010AD0004</td>\n",
       "      <td>1983</td>\n",
       "      <td>010AD0004</td>\n",
       "      <td>530060.0</td>\n",
       "      <td>180310.0</td>\n",
       "      <td>NaN</td>\n",
       "      <td>NaN</td>\n",
       "      <td>Metropolitan Police</td>\n",
       "      <td>Slight</td>\n",
       "      <td>1</td>\n",
       "      <td>...</td>\n",
       "      <td>No physical crossing facilities within 50 metres</td>\n",
       "      <td>Daylight</td>\n",
       "      <td>Fine no high winds</td>\n",
       "      <td>Dry</td>\n",
       "      <td>None</td>\n",
       "      <td>None</td>\n",
       "      <td>Data missing or out of range</td>\n",
       "      <td>Data missing or out of range</td>\n",
       "      <td>Data missing or out of range</td>\n",
       "      <td>-1</td>\n",
       "    </tr>\n",
       "    <tr>\n",
       "      <th>3</th>\n",
       "      <td>1983010AD0005</td>\n",
       "      <td>1983</td>\n",
       "      <td>010AD0005</td>\n",
       "      <td>530070.0</td>\n",
       "      <td>180420.0</td>\n",
       "      <td>NaN</td>\n",
       "      <td>NaN</td>\n",
       "      <td>Metropolitan Police</td>\n",
       "      <td>Slight</td>\n",
       "      <td>2</td>\n",
       "      <td>...</td>\n",
       "      <td>Pedestrian phase at traffic signal junction</td>\n",
       "      <td>Darkness - lights lit</td>\n",
       "      <td>Fine + high winds</td>\n",
       "      <td>Wet or damp</td>\n",
       "      <td>None</td>\n",
       "      <td>None</td>\n",
       "      <td>Data missing or out of range</td>\n",
       "      <td>Data missing or out of range</td>\n",
       "      <td>Data missing or out of range</td>\n",
       "      <td>-1</td>\n",
       "    </tr>\n",
       "    <tr>\n",
       "      <th>4</th>\n",
       "      <td>1983010AD0006</td>\n",
       "      <td>1983</td>\n",
       "      <td>010AD0006</td>\n",
       "      <td>530350.0</td>\n",
       "      <td>180300.0</td>\n",
       "      <td>NaN</td>\n",
       "      <td>NaN</td>\n",
       "      <td>Metropolitan Police</td>\n",
       "      <td>Slight</td>\n",
       "      <td>3</td>\n",
       "      <td>...</td>\n",
       "      <td>No physical crossing facilities within 50 metres</td>\n",
       "      <td>Darkness - lights lit</td>\n",
       "      <td>Fine no high winds</td>\n",
       "      <td>Dry</td>\n",
       "      <td>None</td>\n",
       "      <td>None</td>\n",
       "      <td>Data missing or out of range</td>\n",
       "      <td>Data missing or out of range</td>\n",
       "      <td>Data missing or out of range</td>\n",
       "      <td>-1</td>\n",
       "    </tr>\n",
       "    <tr>\n",
       "      <th>5</th>\n",
       "      <td>1983010AD0007</td>\n",
       "      <td>1983</td>\n",
       "      <td>010AD0007</td>\n",
       "      <td>530060.0</td>\n",
       "      <td>180300.0</td>\n",
       "      <td>NaN</td>\n",
       "      <td>NaN</td>\n",
       "      <td>Metropolitan Police</td>\n",
       "      <td>Slight</td>\n",
       "      <td>1</td>\n",
       "      <td>...</td>\n",
       "      <td>Pedestrian phase at traffic signal junction</td>\n",
       "      <td>Daylight</td>\n",
       "      <td>Fine no high winds</td>\n",
       "      <td>Wet or damp</td>\n",
       "      <td>None</td>\n",
       "      <td>None</td>\n",
       "      <td>Data missing or out of range</td>\n",
       "      <td>Data missing or out of range</td>\n",
       "      <td>Data missing or out of range</td>\n",
       "      <td>-1</td>\n",
       "    </tr>\n",
       "    <tr>\n",
       "      <th>6</th>\n",
       "      <td>1983010AD0008</td>\n",
       "      <td>1983</td>\n",
       "      <td>010AD0008</td>\n",
       "      <td>530000.0</td>\n",
       "      <td>180370.0</td>\n",
       "      <td>NaN</td>\n",
       "      <td>NaN</td>\n",
       "      <td>Metropolitan Police</td>\n",
       "      <td>Slight</td>\n",
       "      <td>1</td>\n",
       "      <td>...</td>\n",
       "      <td>Pelican, puffin, toucan or similar non-junctio...</td>\n",
       "      <td>Daylight</td>\n",
       "      <td>Fine no high winds</td>\n",
       "      <td>Dry</td>\n",
       "      <td>None</td>\n",
       "      <td>None</td>\n",
       "      <td>Data missing or out of range</td>\n",
       "      <td>Data missing or out of range</td>\n",
       "      <td>Data missing or out of range</td>\n",
       "      <td>-1</td>\n",
       "    </tr>\n",
       "    <tr>\n",
       "      <th>7</th>\n",
       "      <td>1983010AD0009</td>\n",
       "      <td>1983</td>\n",
       "      <td>010AD0009</td>\n",
       "      <td>529880.0</td>\n",
       "      <td>180460.0</td>\n",
       "      <td>NaN</td>\n",
       "      <td>NaN</td>\n",
       "      <td>Metropolitan Police</td>\n",
       "      <td>Slight</td>\n",
       "      <td>2</td>\n",
       "      <td>...</td>\n",
       "      <td>Pelican, puffin, toucan or similar non-junctio...</td>\n",
       "      <td>Daylight</td>\n",
       "      <td>Fine no high winds</td>\n",
       "      <td>Dry</td>\n",
       "      <td>None</td>\n",
       "      <td>None</td>\n",
       "      <td>Data missing or out of range</td>\n",
       "      <td>Data missing or out of range</td>\n",
       "      <td>Data missing or out of range</td>\n",
       "      <td>-1</td>\n",
       "    </tr>\n",
       "    <tr>\n",
       "      <th>8</th>\n",
       "      <td>1983010AD0010</td>\n",
       "      <td>1983</td>\n",
       "      <td>010AD0010</td>\n",
       "      <td>530050.0</td>\n",
       "      <td>180350.0</td>\n",
       "      <td>NaN</td>\n",
       "      <td>NaN</td>\n",
       "      <td>Metropolitan Police</td>\n",
       "      <td>Slight</td>\n",
       "      <td>2</td>\n",
       "      <td>...</td>\n",
       "      <td>Pedestrian phase at traffic signal junction</td>\n",
       "      <td>Daylight</td>\n",
       "      <td>Raining no high winds</td>\n",
       "      <td>Wet or damp</td>\n",
       "      <td>None</td>\n",
       "      <td>None</td>\n",
       "      <td>Data missing or out of range</td>\n",
       "      <td>Data missing or out of range</td>\n",
       "      <td>Data missing or out of range</td>\n",
       "      <td>-1</td>\n",
       "    </tr>\n",
       "    <tr>\n",
       "      <th>9</th>\n",
       "      <td>1983010AD0012</td>\n",
       "      <td>1983</td>\n",
       "      <td>010AD0012</td>\n",
       "      <td>528340.0</td>\n",
       "      <td>179850.0</td>\n",
       "      <td>NaN</td>\n",
       "      <td>NaN</td>\n",
       "      <td>Metropolitan Police</td>\n",
       "      <td>Slight</td>\n",
       "      <td>2</td>\n",
       "      <td>...</td>\n",
       "      <td>Footbridge or subway</td>\n",
       "      <td>Daylight</td>\n",
       "      <td>Fine no high winds</td>\n",
       "      <td>Dry</td>\n",
       "      <td>None</td>\n",
       "      <td>None</td>\n",
       "      <td>Data missing or out of range</td>\n",
       "      <td>Data missing or out of range</td>\n",
       "      <td>Data missing or out of range</td>\n",
       "      <td>-1</td>\n",
       "    </tr>\n",
       "    <tr>\n",
       "      <th>10</th>\n",
       "      <td>1983010AD0014</td>\n",
       "      <td>1983</td>\n",
       "      <td>010AD0014</td>\n",
       "      <td>530150.0</td>\n",
       "      <td>180000.0</td>\n",
       "      <td>NaN</td>\n",
       "      <td>NaN</td>\n",
       "      <td>Metropolitan Police</td>\n",
       "      <td>Serious</td>\n",
       "      <td>2</td>\n",
       "      <td>...</td>\n",
       "      <td>Central refuge</td>\n",
       "      <td>Daylight</td>\n",
       "      <td>Fine no high winds</td>\n",
       "      <td>Dry</td>\n",
       "      <td>None</td>\n",
       "      <td>None</td>\n",
       "      <td>Data missing or out of range</td>\n",
       "      <td>Data missing or out of range</td>\n",
       "      <td>Data missing or out of range</td>\n",
       "      <td>-1</td>\n",
       "    </tr>\n",
       "    <tr>\n",
       "      <th>11</th>\n",
       "      <td>1983010AD0015</td>\n",
       "      <td>1983</td>\n",
       "      <td>010AD0015</td>\n",
       "      <td>530070.0</td>\n",
       "      <td>179660.0</td>\n",
       "      <td>NaN</td>\n",
       "      <td>NaN</td>\n",
       "      <td>Metropolitan Police</td>\n",
       "      <td>Serious</td>\n",
       "      <td>1</td>\n",
       "      <td>...</td>\n",
       "      <td>No physical crossing facilities within 50 metres</td>\n",
       "      <td>Daylight</td>\n",
       "      <td>Fine no high winds</td>\n",
       "      <td>Dry</td>\n",
       "      <td>None</td>\n",
       "      <td>Other object on road</td>\n",
       "      <td>Data missing or out of range</td>\n",
       "      <td>Data missing or out of range</td>\n",
       "      <td>Data missing or out of range</td>\n",
       "      <td>-1</td>\n",
       "    </tr>\n",
       "    <tr>\n",
       "      <th>12</th>\n",
       "      <td>1983010AD0016</td>\n",
       "      <td>1983</td>\n",
       "      <td>010AD0016</td>\n",
       "      <td>530170.0</td>\n",
       "      <td>179860.0</td>\n",
       "      <td>NaN</td>\n",
       "      <td>NaN</td>\n",
       "      <td>Metropolitan Police</td>\n",
       "      <td>Serious</td>\n",
       "      <td>1</td>\n",
       "      <td>...</td>\n",
       "      <td>Pelican, puffin, toucan or similar non-junctio...</td>\n",
       "      <td>Darkness - lights lit</td>\n",
       "      <td>Fine no high winds</td>\n",
       "      <td>Dry</td>\n",
       "      <td>None</td>\n",
       "      <td>None</td>\n",
       "      <td>Data missing or out of range</td>\n",
       "      <td>Data missing or out of range</td>\n",
       "      <td>Data missing or out of range</td>\n",
       "      <td>-1</td>\n",
       "    </tr>\n",
       "    <tr>\n",
       "      <th>13</th>\n",
       "      <td>1983010AD0018</td>\n",
       "      <td>1983</td>\n",
       "      <td>010AD0018</td>\n",
       "      <td>530390.0</td>\n",
       "      <td>180270.0</td>\n",
       "      <td>NaN</td>\n",
       "      <td>NaN</td>\n",
       "      <td>Metropolitan Police</td>\n",
       "      <td>Slight</td>\n",
       "      <td>2</td>\n",
       "      <td>...</td>\n",
       "      <td>Zebra</td>\n",
       "      <td>Darkness - lights lit</td>\n",
       "      <td>Fine no high winds</td>\n",
       "      <td>Dry</td>\n",
       "      <td>Roadworks</td>\n",
       "      <td>Other object on road</td>\n",
       "      <td>Data missing or out of range</td>\n",
       "      <td>Data missing or out of range</td>\n",
       "      <td>Data missing or out of range</td>\n",
       "      <td>-1</td>\n",
       "    </tr>\n",
       "    <tr>\n",
       "      <th>14</th>\n",
       "      <td>1983010AD0019</td>\n",
       "      <td>1983</td>\n",
       "      <td>010AD0019</td>\n",
       "      <td>528510.0</td>\n",
       "      <td>179850.0</td>\n",
       "      <td>NaN</td>\n",
       "      <td>NaN</td>\n",
       "      <td>Metropolitan Police</td>\n",
       "      <td>Slight</td>\n",
       "      <td>2</td>\n",
       "      <td>...</td>\n",
       "      <td>No physical crossing facilities within 50 metres</td>\n",
       "      <td>Darkness - lights lit</td>\n",
       "      <td>Fine no high winds</td>\n",
       "      <td>Dry</td>\n",
       "      <td>None</td>\n",
       "      <td>None</td>\n",
       "      <td>Data missing or out of range</td>\n",
       "      <td>Data missing or out of range</td>\n",
       "      <td>Data missing or out of range</td>\n",
       "      <td>-1</td>\n",
       "    </tr>\n",
       "    <tr>\n",
       "      <th>15</th>\n",
       "      <td>1983010AD0021</td>\n",
       "      <td>1983</td>\n",
       "      <td>010AD0021</td>\n",
       "      <td>529800.0</td>\n",
       "      <td>180410.0</td>\n",
       "      <td>NaN</td>\n",
       "      <td>NaN</td>\n",
       "      <td>Metropolitan Police</td>\n",
       "      <td>Slight</td>\n",
       "      <td>1</td>\n",
       "      <td>...</td>\n",
       "      <td>No physical crossing facilities within 50 metres</td>\n",
       "      <td>Darkness - lighting unknown</td>\n",
       "      <td>Fine no high winds</td>\n",
       "      <td>Dry</td>\n",
       "      <td>None</td>\n",
       "      <td>None</td>\n",
       "      <td>Data missing or out of range</td>\n",
       "      <td>Data missing or out of range</td>\n",
       "      <td>Data missing or out of range</td>\n",
       "      <td>-1</td>\n",
       "    </tr>\n",
       "    <tr>\n",
       "      <th>16</th>\n",
       "      <td>1983010AD0022</td>\n",
       "      <td>1983</td>\n",
       "      <td>010AD0022</td>\n",
       "      <td>530130.0</td>\n",
       "      <td>180090.0</td>\n",
       "      <td>NaN</td>\n",
       "      <td>NaN</td>\n",
       "      <td>Metropolitan Police</td>\n",
       "      <td>Slight</td>\n",
       "      <td>2</td>\n",
       "      <td>...</td>\n",
       "      <td>No physical crossing facilities within 50 metres</td>\n",
       "      <td>Darkness - lighting unknown</td>\n",
       "      <td>Fine no high winds</td>\n",
       "      <td>Dry</td>\n",
       "      <td>None</td>\n",
       "      <td>None</td>\n",
       "      <td>Data missing or out of range</td>\n",
       "      <td>Data missing or out of range</td>\n",
       "      <td>Data missing or out of range</td>\n",
       "      <td>-1</td>\n",
       "    </tr>\n",
       "    <tr>\n",
       "      <th>17</th>\n",
       "      <td>1983010AD0024</td>\n",
       "      <td>1983</td>\n",
       "      <td>010AD0024</td>\n",
       "      <td>529210.0</td>\n",
       "      <td>179780.0</td>\n",
       "      <td>NaN</td>\n",
       "      <td>NaN</td>\n",
       "      <td>Metropolitan Police</td>\n",
       "      <td>Slight</td>\n",
       "      <td>1</td>\n",
       "      <td>...</td>\n",
       "      <td>No physical crossing facilities within 50 metres</td>\n",
       "      <td>Darkness - lights lit</td>\n",
       "      <td>Raining no high winds</td>\n",
       "      <td>Wet or damp</td>\n",
       "      <td>None</td>\n",
       "      <td>None</td>\n",
       "      <td>Data missing or out of range</td>\n",
       "      <td>Data missing or out of range</td>\n",
       "      <td>Data missing or out of range</td>\n",
       "      <td>-1</td>\n",
       "    </tr>\n",
       "    <tr>\n",
       "      <th>18</th>\n",
       "      <td>1983010AD0025</td>\n",
       "      <td>1983</td>\n",
       "      <td>010AD0025</td>\n",
       "      <td>529930.0</td>\n",
       "      <td>180480.0</td>\n",
       "      <td>NaN</td>\n",
       "      <td>NaN</td>\n",
       "      <td>Metropolitan Police</td>\n",
       "      <td>Slight</td>\n",
       "      <td>3</td>\n",
       "      <td>...</td>\n",
       "      <td>Pelican, puffin, toucan or similar non-junctio...</td>\n",
       "      <td>Darkness - lights lit</td>\n",
       "      <td>Fine no high winds</td>\n",
       "      <td>Dry</td>\n",
       "      <td>None</td>\n",
       "      <td>None</td>\n",
       "      <td>Data missing or out of range</td>\n",
       "      <td>Data missing or out of range</td>\n",
       "      <td>Data missing or out of range</td>\n",
       "      <td>-1</td>\n",
       "    </tr>\n",
       "    <tr>\n",
       "      <th>19</th>\n",
       "      <td>1983010AD0026</td>\n",
       "      <td>1983</td>\n",
       "      <td>010AD0026</td>\n",
       "      <td>529970.0</td>\n",
       "      <td>180390.0</td>\n",
       "      <td>NaN</td>\n",
       "      <td>NaN</td>\n",
       "      <td>Metropolitan Police</td>\n",
       "      <td>Slight</td>\n",
       "      <td>2</td>\n",
       "      <td>...</td>\n",
       "      <td>Zebra</td>\n",
       "      <td>Darkness - lights lit</td>\n",
       "      <td>Fine no high winds</td>\n",
       "      <td>Wet or damp</td>\n",
       "      <td>None</td>\n",
       "      <td>None</td>\n",
       "      <td>Data missing or out of range</td>\n",
       "      <td>Data missing or out of range</td>\n",
       "      <td>Data missing or out of range</td>\n",
       "      <td>-1</td>\n",
       "    </tr>\n",
       "  </tbody>\n",
       "</table>\n",
       "<p>20 rows × 36 columns</p>\n",
       "</div>"
      ],
      "text/plain": [
       "   accident_index  accident_year accident_reference  location_easting_osgr  \\\n",
       "0   1983010AD0001           1983          010AD0001               530080.0   \n",
       "1   1983010AD0002           1983          010AD0002               530120.0   \n",
       "2   1983010AD0004           1983          010AD0004               530060.0   \n",
       "3   1983010AD0005           1983          010AD0005               530070.0   \n",
       "4   1983010AD0006           1983          010AD0006               530350.0   \n",
       "5   1983010AD0007           1983          010AD0007               530060.0   \n",
       "6   1983010AD0008           1983          010AD0008               530000.0   \n",
       "7   1983010AD0009           1983          010AD0009               529880.0   \n",
       "8   1983010AD0010           1983          010AD0010               530050.0   \n",
       "9   1983010AD0012           1983          010AD0012               528340.0   \n",
       "10  1983010AD0014           1983          010AD0014               530150.0   \n",
       "11  1983010AD0015           1983          010AD0015               530070.0   \n",
       "12  1983010AD0016           1983          010AD0016               530170.0   \n",
       "13  1983010AD0018           1983          010AD0018               530390.0   \n",
       "14  1983010AD0019           1983          010AD0019               528510.0   \n",
       "15  1983010AD0021           1983          010AD0021               529800.0   \n",
       "16  1983010AD0022           1983          010AD0022               530130.0   \n",
       "17  1983010AD0024           1983          010AD0024               529210.0   \n",
       "18  1983010AD0025           1983          010AD0025               529930.0   \n",
       "19  1983010AD0026           1983          010AD0026               529970.0   \n",
       "\n",
       "    location_northing_osgr  longitude  latitude         police_force  \\\n",
       "0                 180430.0        NaN       NaN  Metropolitan Police   \n",
       "1                 179580.0        NaN       NaN  Metropolitan Police   \n",
       "2                 180310.0        NaN       NaN  Metropolitan Police   \n",
       "3                 180420.0        NaN       NaN  Metropolitan Police   \n",
       "4                 180300.0        NaN       NaN  Metropolitan Police   \n",
       "5                 180300.0        NaN       NaN  Metropolitan Police   \n",
       "6                 180370.0        NaN       NaN  Metropolitan Police   \n",
       "7                 180460.0        NaN       NaN  Metropolitan Police   \n",
       "8                 180350.0        NaN       NaN  Metropolitan Police   \n",
       "9                 179850.0        NaN       NaN  Metropolitan Police   \n",
       "10                180000.0        NaN       NaN  Metropolitan Police   \n",
       "11                179660.0        NaN       NaN  Metropolitan Police   \n",
       "12                179860.0        NaN       NaN  Metropolitan Police   \n",
       "13                180270.0        NaN       NaN  Metropolitan Police   \n",
       "14                179850.0        NaN       NaN  Metropolitan Police   \n",
       "15                180410.0        NaN       NaN  Metropolitan Police   \n",
       "16                180090.0        NaN       NaN  Metropolitan Police   \n",
       "17                179780.0        NaN       NaN  Metropolitan Police   \n",
       "18                180480.0        NaN       NaN  Metropolitan Police   \n",
       "19                180390.0        NaN       NaN  Metropolitan Police   \n",
       "\n",
       "   accident_severity  number_of_vehicles  ...  \\\n",
       "0             Slight                   2  ...   \n",
       "1             Slight                   2  ...   \n",
       "2             Slight                   1  ...   \n",
       "3             Slight                   2  ...   \n",
       "4             Slight                   3  ...   \n",
       "5             Slight                   1  ...   \n",
       "6             Slight                   1  ...   \n",
       "7             Slight                   2  ...   \n",
       "8             Slight                   2  ...   \n",
       "9             Slight                   2  ...   \n",
       "10           Serious                   2  ...   \n",
       "11           Serious                   1  ...   \n",
       "12           Serious                   1  ...   \n",
       "13            Slight                   2  ...   \n",
       "14            Slight                   2  ...   \n",
       "15            Slight                   1  ...   \n",
       "16            Slight                   2  ...   \n",
       "17            Slight                   1  ...   \n",
       "18            Slight                   3  ...   \n",
       "19            Slight                   2  ...   \n",
       "\n",
       "              pedestrian_crossing_physical_facilities  \\\n",
       "0         Pedestrian phase at traffic signal junction   \n",
       "1    No physical crossing facilities within 50 metres   \n",
       "2    No physical crossing facilities within 50 metres   \n",
       "3         Pedestrian phase at traffic signal junction   \n",
       "4    No physical crossing facilities within 50 metres   \n",
       "5         Pedestrian phase at traffic signal junction   \n",
       "6   Pelican, puffin, toucan or similar non-junctio...   \n",
       "7   Pelican, puffin, toucan or similar non-junctio...   \n",
       "8         Pedestrian phase at traffic signal junction   \n",
       "9                                Footbridge or subway   \n",
       "10                                     Central refuge   \n",
       "11   No physical crossing facilities within 50 metres   \n",
       "12  Pelican, puffin, toucan or similar non-junctio...   \n",
       "13                                              Zebra   \n",
       "14   No physical crossing facilities within 50 metres   \n",
       "15   No physical crossing facilities within 50 metres   \n",
       "16   No physical crossing facilities within 50 metres   \n",
       "17   No physical crossing facilities within 50 metres   \n",
       "18  Pelican, puffin, toucan or similar non-junctio...   \n",
       "19                                              Zebra   \n",
       "\n",
       "               light_conditions     weather_conditions  \\\n",
       "0         Darkness - lights lit   Raining + high winds   \n",
       "1         Darkness - lights lit     Fine no high winds   \n",
       "2                      Daylight     Fine no high winds   \n",
       "3         Darkness - lights lit      Fine + high winds   \n",
       "4         Darkness - lights lit     Fine no high winds   \n",
       "5                      Daylight     Fine no high winds   \n",
       "6                      Daylight     Fine no high winds   \n",
       "7                      Daylight     Fine no high winds   \n",
       "8                      Daylight  Raining no high winds   \n",
       "9                      Daylight     Fine no high winds   \n",
       "10                     Daylight     Fine no high winds   \n",
       "11                     Daylight     Fine no high winds   \n",
       "12        Darkness - lights lit     Fine no high winds   \n",
       "13        Darkness - lights lit     Fine no high winds   \n",
       "14        Darkness - lights lit     Fine no high winds   \n",
       "15  Darkness - lighting unknown     Fine no high winds   \n",
       "16  Darkness - lighting unknown     Fine no high winds   \n",
       "17        Darkness - lights lit  Raining no high winds   \n",
       "18        Darkness - lights lit     Fine no high winds   \n",
       "19        Darkness - lights lit     Fine no high winds   \n",
       "\n",
       "   road_surface_conditions special_conditions_at_site   carriageway_hazards  \\\n",
       "0              Wet or damp                       None                  None   \n",
       "1                      Dry                       None                  None   \n",
       "2                      Dry                       None                  None   \n",
       "3              Wet or damp                       None                  None   \n",
       "4                      Dry                       None                  None   \n",
       "5              Wet or damp                       None                  None   \n",
       "6                      Dry                       None                  None   \n",
       "7                      Dry                       None                  None   \n",
       "8              Wet or damp                       None                  None   \n",
       "9                      Dry                       None                  None   \n",
       "10                     Dry                       None                  None   \n",
       "11                     Dry                       None  Other object on road   \n",
       "12                     Dry                       None                  None   \n",
       "13                     Dry                  Roadworks  Other object on road   \n",
       "14                     Dry                       None                  None   \n",
       "15                     Dry                       None                  None   \n",
       "16                     Dry                       None                  None   \n",
       "17             Wet or damp                       None                  None   \n",
       "18                     Dry                       None                  None   \n",
       "19             Wet or damp                       None                  None   \n",
       "\n",
       "             urban_or_rural_area did_police_officer_attend_scene_of_accident  \\\n",
       "0   Data missing or out of range                Data missing or out of range   \n",
       "1   Data missing or out of range                Data missing or out of range   \n",
       "2   Data missing or out of range                Data missing or out of range   \n",
       "3   Data missing or out of range                Data missing or out of range   \n",
       "4   Data missing or out of range                Data missing or out of range   \n",
       "5   Data missing or out of range                Data missing or out of range   \n",
       "6   Data missing or out of range                Data missing or out of range   \n",
       "7   Data missing or out of range                Data missing or out of range   \n",
       "8   Data missing or out of range                Data missing or out of range   \n",
       "9   Data missing or out of range                Data missing or out of range   \n",
       "10  Data missing or out of range                Data missing or out of range   \n",
       "11  Data missing or out of range                Data missing or out of range   \n",
       "12  Data missing or out of range                Data missing or out of range   \n",
       "13  Data missing or out of range                Data missing or out of range   \n",
       "14  Data missing or out of range                Data missing or out of range   \n",
       "15  Data missing or out of range                Data missing or out of range   \n",
       "16  Data missing or out of range                Data missing or out of range   \n",
       "17  Data missing or out of range                Data missing or out of range   \n",
       "18  Data missing or out of range                Data missing or out of range   \n",
       "19  Data missing or out of range                Data missing or out of range   \n",
       "\n",
       "                 trunk_road_flag lsoa_of_accident_location  \n",
       "0   Data missing or out of range                        -1  \n",
       "1   Data missing or out of range                        -1  \n",
       "2   Data missing or out of range                        -1  \n",
       "3   Data missing or out of range                        -1  \n",
       "4   Data missing or out of range                        -1  \n",
       "5   Data missing or out of range                        -1  \n",
       "6   Data missing or out of range                        -1  \n",
       "7   Data missing or out of range                        -1  \n",
       "8   Data missing or out of range                        -1  \n",
       "9   Data missing or out of range                        -1  \n",
       "10  Data missing or out of range                        -1  \n",
       "11  Data missing or out of range                        -1  \n",
       "12  Data missing or out of range                        -1  \n",
       "13  Data missing or out of range                        -1  \n",
       "14  Data missing or out of range                        -1  \n",
       "15  Data missing or out of range                        -1  \n",
       "16  Data missing or out of range                        -1  \n",
       "17  Data missing or out of range                        -1  \n",
       "18  Data missing or out of range                        -1  \n",
       "19  Data missing or out of range                        -1  \n",
       "\n",
       "[20 rows x 36 columns]"
      ]
     },
     "execution_count": 3,
     "metadata": {},
     "output_type": "execute_result"
    }
   ],
   "source": [
    "# explore df\n",
    "df.head(20)"
   ]
  },
  {
   "cell_type": "code",
   "execution_count": 4,
   "id": "ca675ca8",
   "metadata": {},
   "outputs": [
    {
     "name": "stdout",
     "output_type": "stream",
     "text": [
      "<class 'pandas.core.frame.DataFrame'>\n",
      "RangeIndex: 242876 entries, 0 to 242875\n",
      "Data columns (total 36 columns):\n",
      " #   Column                                       Non-Null Count   Dtype  \n",
      "---  ------                                       --------------   -----  \n",
      " 0   accident_index                               242876 non-null  object \n",
      " 1   accident_year                                242876 non-null  int64  \n",
      " 2   accident_reference                           242876 non-null  object \n",
      " 3   location_easting_osgr                        242875 non-null  float64\n",
      " 4   location_northing_osgr                       242875 non-null  float64\n",
      " 5   longitude                                    0 non-null       float64\n",
      " 6   latitude                                     0 non-null       float64\n",
      " 7   police_force                                 242876 non-null  object \n",
      " 8   accident_severity                            242876 non-null  object \n",
      " 9   number_of_vehicles                           242876 non-null  int64  \n",
      " 10  number_of_casualties                         242876 non-null  int64  \n",
      " 11  date                                         242876 non-null  object \n",
      " 12  day_of_week                                  242876 non-null  object \n",
      " 13  time                                         242876 non-null  object \n",
      " 14  local_authority_district                     242876 non-null  object \n",
      " 15  local_authority_ons_district                 242876 non-null  int64  \n",
      " 16  local_authority_highway                      242876 non-null  int64  \n",
      " 17  first_road_class                             242876 non-null  object \n",
      " 18  first_road_number                            242861 non-null  object \n",
      " 19  road_type                                    241644 non-null  object \n",
      " 20  speed_limit                                  242876 non-null  float64\n",
      " 21  junction_detail                              242876 non-null  object \n",
      " 22  junction_control                             242876 non-null  object \n",
      " 23  second_road_class                            242876 non-null  object \n",
      " 24  second_road_number                           145803 non-null  object \n",
      " 25  pedestrian_crossing_human_control            242876 non-null  object \n",
      " 26  pedestrian_crossing_physical_facilities      242876 non-null  object \n",
      " 27  light_conditions                             242876 non-null  object \n",
      " 28  weather_conditions                           241599 non-null  object \n",
      " 29  road_surface_conditions                      242876 non-null  object \n",
      " 30  special_conditions_at_site                   242876 non-null  object \n",
      " 31  carriageway_hazards                          242876 non-null  object \n",
      " 32  urban_or_rural_area                          242876 non-null  object \n",
      " 33  did_police_officer_attend_scene_of_accident  242876 non-null  object \n",
      " 34  trunk_road_flag                              242876 non-null  object \n",
      " 35  lsoa_of_accident_location                    242876 non-null  int64  \n",
      "dtypes: float64(5), int64(6), object(25)\n",
      "memory usage: 66.7+ MB\n"
     ]
    }
   ],
   "source": [
    "# inspect df datatypes and values info\n",
    "df.info()"
   ]
  },
  {
   "cell_type": "code",
   "execution_count": 5,
   "id": "70103c9b",
   "metadata": {},
   "outputs": [
    {
     "data": {
      "text/html": [
       "<div>\n",
       "<style scoped>\n",
       "    .dataframe tbody tr th:only-of-type {\n",
       "        vertical-align: middle;\n",
       "    }\n",
       "\n",
       "    .dataframe tbody tr th {\n",
       "        vertical-align: top;\n",
       "    }\n",
       "\n",
       "    .dataframe thead th {\n",
       "        text-align: right;\n",
       "    }\n",
       "</style>\n",
       "<table border=\"1\" class=\"dataframe\">\n",
       "  <thead>\n",
       "    <tr style=\"text-align: right;\">\n",
       "      <th></th>\n",
       "      <th>accident_year</th>\n",
       "      <th>location_easting_osgr</th>\n",
       "      <th>location_northing_osgr</th>\n",
       "      <th>longitude</th>\n",
       "      <th>latitude</th>\n",
       "      <th>number_of_vehicles</th>\n",
       "      <th>number_of_casualties</th>\n",
       "      <th>local_authority_ons_district</th>\n",
       "      <th>local_authority_highway</th>\n",
       "      <th>speed_limit</th>\n",
       "      <th>lsoa_of_accident_location</th>\n",
       "    </tr>\n",
       "  </thead>\n",
       "  <tbody>\n",
       "    <tr>\n",
       "      <th>count</th>\n",
       "      <td>242876.0</td>\n",
       "      <td>242875.000000</td>\n",
       "      <td>242875.000000</td>\n",
       "      <td>0.0</td>\n",
       "      <td>0.0</td>\n",
       "      <td>242876.000000</td>\n",
       "      <td>242876.000000</td>\n",
       "      <td>242876.0</td>\n",
       "      <td>242876.0</td>\n",
       "      <td>242876.000000</td>\n",
       "      <td>242876.0</td>\n",
       "    </tr>\n",
       "    <tr>\n",
       "      <th>mean</th>\n",
       "      <td>1983.0</td>\n",
       "      <td>432818.141390</td>\n",
       "      <td>277867.920618</td>\n",
       "      <td>NaN</td>\n",
       "      <td>NaN</td>\n",
       "      <td>1.686828</td>\n",
       "      <td>1.270541</td>\n",
       "      <td>-1.0</td>\n",
       "      <td>-1.0</td>\n",
       "      <td>37.758144</td>\n",
       "      <td>-1.0</td>\n",
       "    </tr>\n",
       "    <tr>\n",
       "      <th>std</th>\n",
       "      <td>0.0</td>\n",
       "      <td>118860.572453</td>\n",
       "      <td>155150.753505</td>\n",
       "      <td>NaN</td>\n",
       "      <td>NaN</td>\n",
       "      <td>0.684448</td>\n",
       "      <td>0.759492</td>\n",
       "      <td>0.0</td>\n",
       "      <td>0.0</td>\n",
       "      <td>13.203231</td>\n",
       "      <td>0.0</td>\n",
       "    </tr>\n",
       "    <tr>\n",
       "      <th>min</th>\n",
       "      <td>1983.0</td>\n",
       "      <td>3700.000000</td>\n",
       "      <td>3300.000000</td>\n",
       "      <td>NaN</td>\n",
       "      <td>NaN</td>\n",
       "      <td>1.000000</td>\n",
       "      <td>1.000000</td>\n",
       "      <td>-1.0</td>\n",
       "      <td>-1.0</td>\n",
       "      <td>0.000000</td>\n",
       "      <td>-1.0</td>\n",
       "    </tr>\n",
       "    <tr>\n",
       "      <th>25%</th>\n",
       "      <td>1983.0</td>\n",
       "      <td>376600.000000</td>\n",
       "      <td>174130.000000</td>\n",
       "      <td>NaN</td>\n",
       "      <td>NaN</td>\n",
       "      <td>1.000000</td>\n",
       "      <td>1.000000</td>\n",
       "      <td>-1.0</td>\n",
       "      <td>-1.0</td>\n",
       "      <td>30.000000</td>\n",
       "      <td>-1.0</td>\n",
       "    </tr>\n",
       "    <tr>\n",
       "      <th>50%</th>\n",
       "      <td>1983.0</td>\n",
       "      <td>443970.000000</td>\n",
       "      <td>222000.000000</td>\n",
       "      <td>NaN</td>\n",
       "      <td>NaN</td>\n",
       "      <td>2.000000</td>\n",
       "      <td>1.000000</td>\n",
       "      <td>-1.0</td>\n",
       "      <td>-1.0</td>\n",
       "      <td>30.000000</td>\n",
       "      <td>-1.0</td>\n",
       "    </tr>\n",
       "    <tr>\n",
       "      <th>75%</th>\n",
       "      <td>1983.0</td>\n",
       "      <td>525200.000000</td>\n",
       "      <td>387600.000000</td>\n",
       "      <td>NaN</td>\n",
       "      <td>NaN</td>\n",
       "      <td>2.000000</td>\n",
       "      <td>1.000000</td>\n",
       "      <td>-1.0</td>\n",
       "      <td>-1.0</td>\n",
       "      <td>40.000000</td>\n",
       "      <td>-1.0</td>\n",
       "    </tr>\n",
       "    <tr>\n",
       "      <th>max</th>\n",
       "      <td>1983.0</td>\n",
       "      <td>919400.000000</td>\n",
       "      <td>998500.000000</td>\n",
       "      <td>NaN</td>\n",
       "      <td>NaN</td>\n",
       "      <td>21.000000</td>\n",
       "      <td>50.000000</td>\n",
       "      <td>-1.0</td>\n",
       "      <td>-1.0</td>\n",
       "      <td>70.000000</td>\n",
       "      <td>-1.0</td>\n",
       "    </tr>\n",
       "  </tbody>\n",
       "</table>\n",
       "</div>"
      ],
      "text/plain": [
       "       accident_year  location_easting_osgr  location_northing_osgr  \\\n",
       "count       242876.0          242875.000000           242875.000000   \n",
       "mean          1983.0          432818.141390           277867.920618   \n",
       "std              0.0          118860.572453           155150.753505   \n",
       "min           1983.0            3700.000000             3300.000000   \n",
       "25%           1983.0          376600.000000           174130.000000   \n",
       "50%           1983.0          443970.000000           222000.000000   \n",
       "75%           1983.0          525200.000000           387600.000000   \n",
       "max           1983.0          919400.000000           998500.000000   \n",
       "\n",
       "       longitude  latitude  number_of_vehicles  number_of_casualties  \\\n",
       "count        0.0       0.0       242876.000000         242876.000000   \n",
       "mean         NaN       NaN            1.686828              1.270541   \n",
       "std          NaN       NaN            0.684448              0.759492   \n",
       "min          NaN       NaN            1.000000              1.000000   \n",
       "25%          NaN       NaN            1.000000              1.000000   \n",
       "50%          NaN       NaN            2.000000              1.000000   \n",
       "75%          NaN       NaN            2.000000              1.000000   \n",
       "max          NaN       NaN           21.000000             50.000000   \n",
       "\n",
       "       local_authority_ons_district  local_authority_highway    speed_limit  \\\n",
       "count                      242876.0                 242876.0  242876.000000   \n",
       "mean                           -1.0                     -1.0      37.758144   \n",
       "std                             0.0                      0.0      13.203231   \n",
       "min                            -1.0                     -1.0       0.000000   \n",
       "25%                            -1.0                     -1.0      30.000000   \n",
       "50%                            -1.0                     -1.0      30.000000   \n",
       "75%                            -1.0                     -1.0      40.000000   \n",
       "max                            -1.0                     -1.0      70.000000   \n",
       "\n",
       "       lsoa_of_accident_location  \n",
       "count                   242876.0  \n",
       "mean                        -1.0  \n",
       "std                          0.0  \n",
       "min                         -1.0  \n",
       "25%                         -1.0  \n",
       "50%                         -1.0  \n",
       "75%                         -1.0  \n",
       "max                         -1.0  "
      ]
     },
     "execution_count": 5,
     "metadata": {},
     "output_type": "execute_result"
    }
   ],
   "source": [
    "# statistical summary for numeric values\n",
    "df.describe()"
   ]
  },
  {
   "cell_type": "markdown",
   "id": "2485a9f2",
   "metadata": {},
   "source": [
    "### Univarite Analysis"
   ]
  },
  {
   "cell_type": "markdown",
   "id": "f5a30bd4",
   "metadata": {},
   "source": [
    "### 1.  How many Accidents for each police force area? "
   ]
  },
  {
   "cell_type": "code",
   "execution_count": 6,
   "id": "def75917",
   "metadata": {},
   "outputs": [
    {
     "data": {
      "text/plain": [
       "Metropolitan Police      47200\n",
       "Greater Manchester       11024\n",
       "West Midlands             9520\n",
       "Strathclyde               8655\n",
       "Thames Valley             8234\n",
       "West Yorkshire            8041\n",
       "Hampshire                 7468\n",
       "Kent                      6778\n",
       "Essex                     6383\n",
       "Devon and Cornwall        6207\n",
       "Sussex                    5790\n",
       "Merseyside                5637\n",
       "Lancashire                5599\n",
       "Avon and Somerset         5352\n",
       "Staffordshire             4644\n",
       "South Yorkshire           4518\n",
       "Northumbria               4494\n",
       "South Wales               4440\n",
       "Nottinghamshire           4418\n",
       "West Mercia               4173\n",
       "Surrey                    4137\n",
       "Derbyshire                3743\n",
       "Lothian and Borders       3733\n",
       "Cheshire                  3711\n",
       "Humberside                3700\n",
       "Leicestershire            3658\n",
       "Hertfordshire             3386\n",
       "North Yorkshire           3073\n",
       "Norfolk                   3038\n",
       "Cambridgeshire            2954\n",
       "Wiltshire                 2829\n",
       "Dorset                    2663\n",
       "Suffolk                   2653\n",
       "Lincolnshire              2605\n",
       "North Wales               2591\n",
       "Gloucestershire           2490\n",
       "Northamptonshire          2453\n",
       "Bedfordshire              2425\n",
       "Warwickshire              2060\n",
       "Cleveland                 2042\n",
       "Grampian                  2022\n",
       "Cumbria                   1931\n",
       "Dyfed-Powys               1767\n",
       "Durham                    1709\n",
       "Gwent                     1497\n",
       "Tayside                   1475\n",
       "Fife                      1199\n",
       "Northern                   917\n",
       "Central                    886\n",
       "Dumfries and Galloway      549\n",
       "City of London             405\n",
       "Name: police_force, dtype: int64"
      ]
     },
     "execution_count": 6,
     "metadata": {},
     "output_type": "execute_result"
    }
   ],
   "source": [
    "df.police_force.value_counts()"
   ]
  },
  {
   "cell_type": "code",
   "execution_count": 7,
   "id": "ecbdd463",
   "metadata": {},
   "outputs": [
    {
     "data": {
      "text/plain": [
       "51"
      ]
     },
     "execution_count": 7,
     "metadata": {},
     "output_type": "execute_result"
    }
   ],
   "source": [
    "df.police_force.nunique()"
   ]
  },
  {
   "cell_type": "code",
   "execution_count": 8,
   "id": "cc6c8548",
   "metadata": {},
   "outputs": [
    {
     "data": {
      "text/plain": [
       "Text(0, 0.5, 'number_of_accidents')"
      ]
     },
     "execution_count": 8,
     "metadata": {},
     "output_type": "execute_result"
    },
    {
     "data": {
      "image/png": "[encoded data removed]",
      "text/plain": [
       "<Figure size 1080x1080 with 1 Axes>"
      ]
     },
     "metadata": {
      "needs_background": "light"
     },
     "output_type": "display_data"
    }
   ],
   "source": [
    "# plot the accident freqency for each police office\n",
    "plt.figure(figsize=(15,15))\n",
    "base_color = sns.color_palette()[0]\n",
    "sns.countplot(data = df, x = \"police_force\", color = base_color)\n",
    "plt.xticks(rotation = 90)\n",
    "plt.title(\"Number of Accidents for each Police office\")\n",
    "plt.xlabel('police_force')\n",
    "plt.ylabel('number_of_accidents')"
   ]
  },
  {
   "cell_type": "markdown",
   "id": "80f56a2c",
   "metadata": {},
   "source": [
    "### <span style=\"color:red\">High accidents frequency for Metropolitan Police office , with some offices has medium accidents frequency ex/ Greater Manchester, and some has low accident freqency ex/ suffolk, london has the lowest accidents frequency</span>"
   ]
  },
  {
   "cell_type": "markdown",
   "id": "08276395",
   "metadata": {},
   "source": [
    "### 2.  How many accidents for each accident serverity category?"
   ]
  },
  {
   "cell_type": "code",
   "execution_count": 9,
   "id": "75876e4b",
   "metadata": {},
   "outputs": [
    {
     "data": {
      "text/plain": [
       "Text(0.5, 1.0, 'Number of Accidents for each Accident Serverity category')"
      ]
     },
     "execution_count": 9,
     "metadata": {},
     "output_type": "execute_result"
    },
    {
     "data": {
      "image/png": "[encoded data removed]",
      "text/plain": [
       "<Figure size 1008x576 with 1 Axes>"
      ]
     },
     "metadata": {
      "needs_background": "light"
     },
     "output_type": "display_data"
    }
   ],
   "source": [
    "# plot number of accidents for accident serverity\n",
    "plt.figure(figsize=(14,8))\n",
    "sns.countplot(data = df, x = \"accident_severity\")\n",
    "plt.title(\"Number of Accidents for each Accident Serverity category\")"
   ]
  },
  {
   "cell_type": "markdown",
   "id": "f7c01427",
   "metadata": {},
   "source": [
    "### <span style=\"color:red\">It seems that the most of accidents happened were slight accidents, with few serious accidents and very few considered as a fatal accidents</span>"
   ]
  },
  {
   "cell_type": "markdown",
   "id": "9daf6def",
   "metadata": {},
   "source": [
    "###  How many accidents for each day of week?"
   ]
  },
  {
   "cell_type": "code",
   "execution_count": 10,
   "id": "86368242",
   "metadata": {},
   "outputs": [
    {
     "data": {
      "text/plain": [
       "Text(0.5, 1.0, 'Number of Accidents for each Day of week')"
      ]
     },
     "execution_count": 10,
     "metadata": {},
     "output_type": "execute_result"
    },
    {
     "data": {
      "image/png": "[encoded data removed]",
      "text/plain": [
       "<Figure size 1008x576 with 1 Axes>"
      ]
     },
     "metadata": {
      "needs_background": "light"
     },
     "output_type": "display_data"
    }
   ],
   "source": [
    "# plot number of accidents for each day\n",
    "plt.figure(figsize=(14,8))\n",
    "sns.countplot(data = df, x = \"day_of_week\", color = base_color)\n",
    "plt.title(\"Number of Accidents for each Day of week\")"
   ]
  },
  {
   "cell_type": "markdown",
   "id": "f5adaa04",
   "metadata": {},
   "source": [
    "### <span style=\"color:red\">Friday with the highest, sunday is the lowest</span>"
   ]
  },
  {
   "cell_type": "markdown",
   "id": "c9ce018f",
   "metadata": {},
   "source": [
    "### 3.  How many accidents for each Number of Vechiles ?"
   ]
  },
  {
   "cell_type": "code",
   "execution_count": 11,
   "id": "ea6e5685",
   "metadata": {},
   "outputs": [
    {
     "data": {
      "text/plain": [
       "Text(0.5, 0, 'Number of vechicles')"
      ]
     },
     "execution_count": 11,
     "metadata": {},
     "output_type": "execute_result"
    },
    {
     "data": {
      "image/png": "[encoded data removed]",
      "text/plain": [
       "<Figure size 1008x576 with 1 Axes>"
      ]
     },
     "metadata": {
      "needs_background": "light"
     },
     "output_type": "display_data"
    }
   ],
   "source": [
    "# accidents count per each number of vechile\n",
    "plt.figure(figsize=(14,8))\n",
    "sns.countplot(data = df, x = \"number_of_vehicles\", color = base_color)#[\"num of vehicles\"], num_of_vehicles_df['count'], marker='o', markeredgecolor='red')\n",
    "plt.title(\"The Frequency of accidents by certain number of vechicles\")\n",
    "plt.ylabel('Number of accidents')\n",
    "plt.xlabel('Number of vechicles')"
   ]
  },
  {
   "cell_type": "code",
   "execution_count": 12,
   "id": "2cd149fe",
   "metadata": {},
   "outputs": [
    {
     "data": {
      "text/plain": [
       "2     125560\n",
       "1      99138\n",
       "3      14726\n",
       "4       2564\n",
       "5        610\n",
       "6        164\n",
       "7         50\n",
       "8         29\n",
       "9         17\n",
       "10         7\n",
       "12         2\n",
       "17         2\n",
       "14         2\n",
       "13         2\n",
       "21         1\n",
       "11         1\n",
       "15         1\n",
       "Name: number_of_vehicles, dtype: int64"
      ]
     },
     "execution_count": 12,
     "metadata": {},
     "output_type": "execute_result"
    }
   ],
   "source": [
    "df.number_of_vehicles.value_counts()"
   ]
  },
  {
   "cell_type": "markdown",
   "id": "10c7e31d",
   "metadata": {},
   "source": [
    "### <span style=\"color:red\">The most of accidents happened by 2 cars only, but we can consider we have high number of accidents till 5 vechiles after that there is feww accidents for each number, and single or double accident for number of vechiles higher than 10 </span>"
   ]
  },
  {
   "cell_type": "markdown",
   "id": "eb297bb0",
   "metadata": {},
   "source": [
    "### 4.  How many accidents per each Weather condition ?"
   ]
  },
  {
   "cell_type": "code",
   "execution_count": 13,
   "id": "3686e4cc",
   "metadata": {},
   "outputs": [
    {
     "data": {
      "text/plain": [
       "Text(0.5, 1.0, 'Number of Accidents for each weather Category')"
      ]
     },
     "execution_count": 13,
     "metadata": {},
     "output_type": "execute_result"
    },
    {
     "data": {
      "image/png": "[encoded data removed]",
      "text/plain": [
       "<Figure size 1440x864 with 1 Axes>"
      ]
     },
     "metadata": {
      "needs_background": "light"
     },
     "output_type": "display_data"
    }
   ],
   "source": [
    "# Plot the frequency of accidents happened due to different weathers\n",
    "plt.figure(figsize=(20,12))\n",
    "sns.countplot(data = df, x = \"weather_conditions\", color = base_color)\n",
    "plt.title(\"Number of Accidents for each weather Category\")"
   ]
  },
  {
   "cell_type": "markdown",
   "id": "3e735503",
   "metadata": {},
   "source": [
    "### <span style=\"color:red\">Most of accidents happened in fine weather</span>"
   ]
  },
  {
   "cell_type": "markdown",
   "id": "e09e71c2",
   "metadata": {},
   "source": [
    "### 5.  How many accidents per each hour of day ?"
   ]
  },
  {
   "cell_type": "code",
   "execution_count": 14,
   "id": "4c22df6f",
   "metadata": {},
   "outputs": [],
   "source": [
    "# new column represent the hours during the day\n",
    "df[\"day_hour\"] = pd.to_datetime(df.time, format = \"%H:%M\").dt.hour"
   ]
  },
  {
   "cell_type": "code",
   "execution_count": 15,
   "id": "8b2b3e1f",
   "metadata": {},
   "outputs": [
    {
     "data": {
      "text/plain": [
       "Text(0.5, 1.0, 'Accident frequency pattern during the day')"
      ]
     },
     "execution_count": 15,
     "metadata": {},
     "output_type": "execute_result"
    },
    {
     "data": {
      "image/png": "[encoded data removed]",
      "text/plain": [
       "<Figure size 1008x576 with 1 Axes>"
      ]
     },
     "metadata": {
      "needs_background": "light"
     },
     "output_type": "display_data"
    }
   ],
   "source": [
    "# Plot the frequency of accidents happened during different hours \n",
    "plt.figure(figsize=(14,8))\n",
    "sns.countplot(data = df, x= \"day_hour\", color = base_color)\n",
    "plt.title(\"Accident frequency pattern during the day\")"
   ]
  },
  {
   "cell_type": "markdown",
   "id": "dcda7d06",
   "metadata": {},
   "source": [
    "### <span style=\"color:red\">Peak of accident is between 8 AM and 7 PM,  most of accidents happened during 5:00 and 4:00 PM hours</span>"
   ]
  },
  {
   "cell_type": "markdown",
   "id": "6dd8c51c",
   "metadata": {},
   "source": [
    "### 6.  How many accidents per each Road Class ?"
   ]
  },
  {
   "cell_type": "code",
   "execution_count": 16,
   "id": "585ab4a7",
   "metadata": {},
   "outputs": [
    {
     "data": {
      "text/plain": [
       "Text(0.5, 1.0, 'Accident Count per each road Class')"
      ]
     },
     "execution_count": 16,
     "metadata": {},
     "output_type": "execute_result"
    },
    {
     "data": {
      "image/png": "[encoded data removed]",
      "text/plain": [
       "<Figure size 1008x576 with 1 Axes>"
      ]
     },
     "metadata": {
      "needs_background": "light"
     },
     "output_type": "display_data"
    }
   ],
   "source": [
    "# Plot the frequency of accidents happened on different first road classes\n",
    "plt.figure(figsize=(14,8))\n",
    "sns.countplot(data = df, x = \"first_road_class\", color = base_color)\n",
    "plt.title(\"Accident Count per each road Class\")"
   ]
  },
  {
   "cell_type": "markdown",
   "id": "4c77ed2c",
   "metadata": {},
   "source": [
    "### <span style=\"color:red\">Most of accidents that happened on roads of class A</span>"
   ]
  },
  {
   "cell_type": "markdown",
   "id": "25d5cf75",
   "metadata": {},
   "source": [
    "### 7.  How many accidents per each roads type?"
   ]
  },
  {
   "cell_type": "code",
   "execution_count": 17,
   "id": "79e47b12",
   "metadata": {},
   "outputs": [
    {
     "data": {
      "text/plain": [
       "Text(0.5, 1.0, 'Accident Count per each road type')"
      ]
     },
     "execution_count": 17,
     "metadata": {},
     "output_type": "execute_result"
    },
    {
     "data": {
      "image/png": "[encoded data removed]",
      "text/plain": [
       "<Figure size 1008x576 with 1 Axes>"
      ]
     },
     "metadata": {
      "needs_background": "light"
     },
     "output_type": "display_data"
    }
   ],
   "source": [
    "# Plot the frequency of accidents happened on different road types\n",
    "plt.figure(figsize=(14,8))\n",
    "sns.countplot(data = df, x = \"road_type\", color = base_color)\n",
    "plt.title(\"Accident Count per each road type\")"
   ]
  },
  {
   "cell_type": "markdown",
   "id": "03d881c1",
   "metadata": {},
   "source": [
    "### <span style=\"color:red\">Single carriage roads have the most number of accidents, with high difference from other roads type </span>"
   ]
  },
  {
   "cell_type": "markdown",
   "id": "323a8535",
   "metadata": {},
   "source": [
    "### 8.  How many accidents per each Light Conditions?"
   ]
  },
  {
   "cell_type": "code",
   "execution_count": 18,
   "id": "07f51531",
   "metadata": {},
   "outputs": [
    {
     "data": {
      "text/plain": [
       "Text(0.5, 1.0, 'Accident Count per each Light Condition')"
      ]
     },
     "execution_count": 18,
     "metadata": {},
     "output_type": "execute_result"
    },
    {
     "data": {
      "image/png": "[encoded data removed]",
      "text/plain": [
       "<Figure size 1008x576 with 1 Axes>"
      ]
     },
     "metadata": {
      "needs_background": "light"
     },
     "output_type": "display_data"
    }
   ],
   "source": [
    "# Plot the frequency of accidents happened due to light conditions\n",
    "plt.figure(figsize=(14,8))\n",
    "sns.countplot(data = df, x = \"light_conditions\", color = base_color)\n",
    "plt.title(\"Accident Count per each Light Condition\")"
   ]
  },
  {
   "cell_type": "markdown",
   "id": "54dbb36c",
   "metadata": {},
   "source": [
    "### <span style=\"color:red\">Most of accidents were in day light</span>"
   ]
  },
  {
   "cell_type": "markdown",
   "id": "1cbdbf74",
   "metadata": {},
   "source": [
    "### 9.  How many accidents per each Road surface condition?"
   ]
  },
  {
   "cell_type": "code",
   "execution_count": 19,
   "id": "1046e6c7",
   "metadata": {},
   "outputs": [
    {
     "data": {
      "text/plain": [
       "Text(0.5, 1.0, 'Accident Count per each surface conditions')"
      ]
     },
     "execution_count": 19,
     "metadata": {},
     "output_type": "execute_result"
    },
    {
     "data": {
      "image/png": "[encoded data removed]",
      "text/plain": [
       "<Figure size 1008x576 with 1 Axes>"
      ]
     },
     "metadata": {
      "needs_background": "light"
     },
     "output_type": "display_data"
    }
   ],
   "source": [
    "# Plot the frequency of accidents happened due to road surface conditions\n",
    "plt.figure(figsize=(14,8))\n",
    "sns.countplot(data = df, x = \"road_surface_conditions\", color = base_color)\n",
    "plt.title(\"Accident Count per each surface conditions\")"
   ]
  },
  {
   "cell_type": "markdown",
   "id": "36219461",
   "metadata": {},
   "source": [
    "### <span style=\"color:red\">Most of accidents happened on dry surface roads</span>"
   ]
  },
  {
   "cell_type": "markdown",
   "id": "d337bfff",
   "metadata": {},
   "source": [
    "## Bivariate Analysis"
   ]
  },
  {
   "cell_type": "markdown",
   "id": "63cb460e",
   "metadata": {},
   "source": [
    "### 10.  How the weather condition affect Accident Serverity?"
   ]
  },
  {
   "cell_type": "code",
   "execution_count": 20,
   "id": "e2065e89",
   "metadata": {},
   "outputs": [
    {
     "data": {
      "text/plain": [
       "Text(0.5, 1.0, 'count of accident in each weather category distributed by each accident serverity category')"
      ]
     },
     "execution_count": 20,
     "metadata": {},
     "output_type": "execute_result"
    },
    {
     "data": {
      "image/png": "[encoded data removed]",
      "text/plain": [
       "<Figure size 1008x576 with 1 Axes>"
      ]
     },
     "metadata": {
      "needs_background": "light"
     },
     "output_type": "display_data"
    }
   ],
   "source": [
    "# plt the count of accident in each weather category distributed by each accident serverity category\n",
    "df.groupby(['weather_conditions', 'accident_severity']).size().unstack().plot(kind='bar', stacked=True,figsize=(14,8))\n",
    "plt.title(\"count of accident in each weather category distributed by each accident serverity category\")"
   ]
  },
  {
   "cell_type": "markdown",
   "id": "a02d4855",
   "metadata": {},
   "source": [
    "### <span style=\"color:red\">Fine with no winds has the highest accident count, with relatively high serious accidents, most of accidents were slight </span>"
   ]
  },
  {
   "cell_type": "markdown",
   "id": "28787afa",
   "metadata": {},
   "source": [
    "### 11. How the light condition affect Accident Serverity?"
   ]
  },
  {
   "cell_type": "code",
   "execution_count": 21,
   "id": "27555c23",
   "metadata": {},
   "outputs": [
    {
     "data": {
      "text/plain": [
       "Text(0.5, 1.0, 'count of accident in each light_conditions category distributed by each accident serverity category')"
      ]
     },
     "execution_count": 21,
     "metadata": {},
     "output_type": "execute_result"
    },
    {
     "data": {
      "image/png": "[encoded data removed]",
      "text/plain": [
       "<Figure size 1008x576 with 1 Axes>"
      ]
     },
     "metadata": {
      "needs_background": "light"
     },
     "output_type": "display_data"
    }
   ],
   "source": [
    "# plt the count of accident in each light condition category distributed by each accident serverity category\n",
    "df.groupby(['light_conditions', 'accident_severity']).size().unstack().plot(kind='bar', stacked=True,figsize=(14,8))\n",
    "plt.title(\"count of accident in each light_conditions category distributed by each accident serverity category\")"
   ]
  },
  {
   "cell_type": "markdown",
   "id": "faa30f40",
   "metadata": {},
   "source": [
    "### <span style=\"color:red\">The most accidents that happened due to light conditions were slight, but in darkness and light lit has relatively more fatal accidents relative to its count</span>"
   ]
  },
  {
   "cell_type": "markdown",
   "id": "d683609b",
   "metadata": {},
   "source": [
    "### 12. How the road surface conditions affect Accident Serverity?"
   ]
  },
  {
   "cell_type": "code",
   "execution_count": 22,
   "id": "a160d24a",
   "metadata": {},
   "outputs": [
    {
     "data": {
      "text/plain": [
       "Text(0.5, 1.0, 'count of accident in each road surface conditions category distributed by each accident serverity category')"
      ]
     },
     "execution_count": 22,
     "metadata": {},
     "output_type": "execute_result"
    },
    {
     "data": {
      "image/png": "[encoded data removed]",
      "text/plain": [
       "<Figure size 1008x576 with 1 Axes>"
      ]
     },
     "metadata": {
      "needs_background": "light"
     },
     "output_type": "display_data"
    }
   ],
   "source": [
    "# plt the count of accident in each road surface conditions category distributed by each accident serverity category\n",
    "df.groupby(['road_surface_conditions', 'accident_severity']).size().unstack().plot(kind='bar', stacked=True,figsize=(14,8))\n",
    "plt.title(\"count of accident in each road surface conditions category distributed by each accident serverity category\")"
   ]
  },
  {
   "cell_type": "markdown",
   "id": "d758421f",
   "metadata": {},
   "source": [
    "### <span style=\"color:red\">The most accidents that happened due to road surface conditions were slight, but in wet and damp it  relatively more fatal accidents relative to its count</span> </span>"
   ]
  },
  {
   "cell_type": "markdown",
   "id": "d2aec74a",
   "metadata": {},
   "source": [
    "### 13. What is the average number of vechiles in each accident serverity category?"
   ]
  },
  {
   "cell_type": "code",
   "execution_count": 23,
   "id": "a2c5c59a",
   "metadata": {},
   "outputs": [
    {
     "data": {
      "text/plain": [
       "Text(0.5, 1.0, 'average number of vechiles per each accident serverity')"
      ]
     },
     "execution_count": 23,
     "metadata": {},
     "output_type": "execute_result"
    },
    {
     "data": {
      "image/png": "[encoded data removed]",
      "text/plain": [
       "<Figure size 1008x576 with 1 Axes>"
      ]
     },
     "metadata": {
      "needs_background": "light"
     },
     "output_type": "display_data"
    }
   ],
   "source": [
    "# plot the average number of vechiles in each accident serverity\n",
    "plt.figure(figsize=(14,8))\n",
    "sns.lineplot(data = df, x = \"accident_severity\", y = \"number_of_vehicles\")\n",
    "plt.title(\"average number of vechiles per each accident serverity\")"
   ]
  },
  {
   "cell_type": "markdown",
   "id": "be65e8be",
   "metadata": {},
   "source": [
    "### <span style=\"color:red\">In slight accidents we have higher number of vechiles per accident, the number goes down from slight to serious to fatal, but in fatal we have high varience in number of vechiles</span> </span>"
   ]
  },
  {
   "cell_type": "markdown",
   "id": "1dbafdcf",
   "metadata": {},
   "source": [
    "### 14. What is the average number of casualties in each accident serverity category?"
   ]
  },
  {
   "cell_type": "code",
   "execution_count": 24,
   "id": "74434fbd",
   "metadata": {},
   "outputs": [
    {
     "data": {
      "text/plain": [
       "Text(0.5, 1.0, 'average number of casualties per each accident serverity')"
      ]
     },
     "execution_count": 24,
     "metadata": {},
     "output_type": "execute_result"
    },
    {
     "data": {
      "image/png": "[encoded data removed]",
      "text/plain": [
       "<Figure size 1008x576 with 1 Axes>"
      ]
     },
     "metadata": {
      "needs_background": "light"
     },
     "output_type": "display_data"
    }
   ],
   "source": [
    "# plot the average number of casualties in each accident serverity\n",
    "plt.figure(figsize=(14,8))\n",
    "sns.lineplot(data = df, x = \"accident_severity\", y = \"number_of_casualties\")\n",
    "plt.title(\"average number of casualties per each accident serverity\")"
   ]
  },
  {
   "cell_type": "markdown",
   "id": "e9f50c74",
   "metadata": {},
   "source": [
    "### <span style=\"color:red\">In slight accidents we have lower number of causalities per accident, the number goes up from slight to serious to fatal</span> </span>"
   ]
  },
  {
   "cell_type": "markdown",
   "id": "2d019a81",
   "metadata": {},
   "source": [
    "### Multi-Variate EDA"
   ]
  },
  {
   "cell_type": "markdown",
   "id": "54abaeca",
   "metadata": {},
   "source": [
    "### 15. What is the average number of casualties in each accident serverity category per each weather condition?"
   ]
  },
  {
   "cell_type": "code",
   "execution_count": 25,
   "id": "9e1a6c05",
   "metadata": {},
   "outputs": [
    {
     "data": {
      "text/plain": [
       "Text(0.5, 1.0, 'Average number of casualties in each accident serverity per each weather condition')"
      ]
     },
     "execution_count": 25,
     "metadata": {},
     "output_type": "execute_result"
    },
    {
     "data": {
      "image/png": "[encoded data removed]",
      "text/plain": [
       "<Figure size 1008x576 with 1 Axes>"
      ]
     },
     "metadata": {
      "needs_background": "light"
     },
     "output_type": "display_data"
    }
   ],
   "source": [
    "# plot the average number of casualties in each accident serverity per each weather condition\n",
    "plt.figure(figsize=(14,8))\n",
    "sns.lineplot(data = df, x = \"weather_conditions\", y = \"number_of_casualties\", hue = \"accident_severity\", err_style = \"bars\")\n",
    "plt.xticks(rotation = 90)\n",
    "plt.title(\"Average number of casualties in each accident serverity per each weather condition\")"
   ]
  },
  {
   "cell_type": "markdown",
   "id": "7b9a15e3",
   "metadata": {},
   "source": [
    "### <span style=\"color:red\">In slight accidents we have lower number of causalities per accident, the number goes up from slight to serious to fatal, fig and mist has the higher number of casualities in weather condithions</span> </span>"
   ]
  },
  {
   "cell_type": "markdown",
   "id": "8e3e7940",
   "metadata": {},
   "source": [
    "### 16. What is the average number of casualties in each accident serverity category per each light condition?"
   ]
  },
  {
   "cell_type": "code",
   "execution_count": 26,
   "id": "6eda7654",
   "metadata": {},
   "outputs": [
    {
     "data": {
      "text/plain": [
       "Text(0.5, 1.0, 'Average number of casualties in each accident serverity per each light condition')"
      ]
     },
     "execution_count": 26,
     "metadata": {},
     "output_type": "execute_result"
    },
    {
     "data": {
      "image/png": "[encoded data removed]",
      "text/plain": [
       "<Figure size 1008x576 with 1 Axes>"
      ]
     },
     "metadata": {
      "needs_background": "light"
     },
     "output_type": "display_data"
    }
   ],
   "source": [
    "# plot the average number of casualties in each accident serverity per each light condition\n",
    "plt.figure(figsize=(14,8))\n",
    "sns.lineplot(data = df, x = \"light_conditions\", y = \"number_of_casualties\", hue = \"accident_severity\", err_style = \"bars\")\n",
    "plt.xticks(rotation = 90)\n",
    "plt.title(\"Average number of casualties in each accident serverity per each light condition\")"
   ]
  },
  {
   "cell_type": "markdown",
   "id": "48c5026d",
   "metadata": {},
   "source": [
    "### <span style=\"color:red\">In slight accidents we have lower number of causalities per accident, the number goes up from slight to serious to fatal, Darkness and no lighting has the higher number of casualities in weather condithions</span> </span>"
   ]
  },
  {
   "cell_type": "markdown",
   "id": "b86daac7",
   "metadata": {},
   "source": [
    "## 2. Data Cleaning"
   ]
  },
  {
   "cell_type": "markdown",
   "id": "285297e5",
   "metadata": {},
   "source": [
    "### Drop unnecessary columns"
   ]
  },
  {
   "cell_type": "markdown",
   "id": "e94dfc0e",
   "metadata": {},
   "source": [
    "#### Categorical  column has number of unique value more than 2000 we will regard it does not add value and we will drop it "
   ]
  },
  {
   "cell_type": "code",
   "execution_count": 27,
   "id": "b94a8407",
   "metadata": {},
   "outputs": [],
   "source": [
    "# make a copy of the data\n",
    "df1= df.copy()"
   ]
  },
  {
   "cell_type": "code",
   "execution_count": 28,
   "id": "c8cdc432",
   "metadata": {},
   "outputs": [
    {
     "data": {
      "text/plain": [
       "accident_index                                  object\n",
       "accident_year                                    int64\n",
       "accident_reference                              object\n",
       "location_easting_osgr                          float64\n",
       "location_northing_osgr                         float64\n",
       "longitude                                      float64\n",
       "latitude                                       float64\n",
       "police_force                                    object\n",
       "accident_severity                               object\n",
       "number_of_vehicles                               int64\n",
       "number_of_casualties                             int64\n",
       "date                                            object\n",
       "day_of_week                                     object\n",
       "time                                            object\n",
       "local_authority_district                        object\n",
       "local_authority_ons_district                     int64\n",
       "local_authority_highway                          int64\n",
       "first_road_class                                object\n",
       "first_road_number                               object\n",
       "road_type                                       object\n",
       "speed_limit                                    float64\n",
       "junction_detail                                 object\n",
       "junction_control                                object\n",
       "second_road_class                               object\n",
       "second_road_number                              object\n",
       "pedestrian_crossing_human_control               object\n",
       "pedestrian_crossing_physical_facilities         object\n",
       "light_conditions                                object\n",
       "weather_conditions                              object\n",
       "road_surface_conditions                         object\n",
       "special_conditions_at_site                      object\n",
       "carriageway_hazards                             object\n",
       "urban_or_rural_area                             object\n",
       "did_police_officer_attend_scene_of_accident     object\n",
       "trunk_road_flag                                 object\n",
       "lsoa_of_accident_location                        int64\n",
       "day_hour                                         int64\n",
       "dtype: object"
      ]
     },
     "execution_count": 28,
     "metadata": {},
     "output_type": "execute_result"
    }
   ],
   "source": [
    "df1.dtypes"
   ]
  },
  {
   "cell_type": "code",
   "execution_count": 29,
   "id": "dcfbe840",
   "metadata": {},
   "outputs": [
    {
     "data": {
      "text/plain": [
       "accident_index                                 242876\n",
       "accident_reference                             242876\n",
       "police_force                                       51\n",
       "accident_severity                                   3\n",
       "date                                              365\n",
       "day_of_week                                         7\n",
       "time                                             1416\n",
       "local_authority_district                          467\n",
       "first_road_class                                    7\n",
       "first_road_number                                3411\n",
       "road_type                                           4\n",
       "junction_detail                                    10\n",
       "junction_control                                    5\n",
       "second_road_class                                   7\n",
       "second_road_number                               2802\n",
       "pedestrian_crossing_human_control                   4\n",
       "pedestrian_crossing_physical_facilities             7\n",
       "light_conditions                                    6\n",
       "weather_conditions                                  8\n",
       "road_surface_conditions                             6\n",
       "special_conditions_at_site                          7\n",
       "carriageway_hazards                                 7\n",
       "urban_or_rural_area                                 1\n",
       "did_police_officer_attend_scene_of_accident         1\n",
       "trunk_road_flag                                     1\n",
       "dtype: int64"
      ]
     },
     "execution_count": 29,
     "metadata": {},
     "output_type": "execute_result"
    }
   ],
   "source": [
    "# get the number of unique values for each categorical feature\n",
    "df1.select_dtypes(object).nunique()"
   ]
  },
  {
   "cell_type": "code",
   "execution_count": 30,
   "id": "282985e3",
   "metadata": {},
   "outputs": [],
   "source": [
    "# drop mask2\n",
    "mask_drop1 = df1.select_dtypes(object).nunique() > 2000\n",
    "mask_drop2 = df1.select_dtypes(object).nunique() == 1"
   ]
  },
  {
   "cell_type": "code",
   "execution_count": 31,
   "id": "e508b4a3",
   "metadata": {},
   "outputs": [],
   "source": [
    "# select the columns to drop\n",
    "drop1 = df1.select_dtypes(object).loc[:,mask_drop1].columns\n",
    "drop2 = df1.select_dtypes(object).loc[:,mask_drop2].columns"
   ]
  },
  {
   "cell_type": "code",
   "execution_count": 32,
   "id": "dbeabf77",
   "metadata": {},
   "outputs": [],
   "source": [
    "# drop the selected columns\n",
    "df1.drop(df[drop1].columns , axis =1,inplace = True)\n",
    "df1.drop(df[drop2].columns , axis =1,inplace = True)"
   ]
  },
  {
   "cell_type": "code",
   "execution_count": 33,
   "id": "d10814da",
   "metadata": {},
   "outputs": [
    {
     "data": {
      "text/plain": [
       "police_force                                 51\n",
       "accident_severity                             3\n",
       "date                                        365\n",
       "day_of_week                                   7\n",
       "time                                       1416\n",
       "local_authority_district                    467\n",
       "first_road_class                              7\n",
       "road_type                                     4\n",
       "junction_detail                              10\n",
       "junction_control                              5\n",
       "second_road_class                             7\n",
       "pedestrian_crossing_human_control             4\n",
       "pedestrian_crossing_physical_facilities       7\n",
       "light_conditions                              6\n",
       "weather_conditions                            8\n",
       "road_surface_conditions                       6\n",
       "special_conditions_at_site                    7\n",
       "carriageway_hazards                           7\n",
       "dtype: int64"
      ]
     },
     "execution_count": 33,
     "metadata": {},
     "output_type": "execute_result"
    }
   ],
   "source": [
    "# test or number of unique values in columns\n",
    "df1.select_dtypes(object).nunique()"
   ]
  },
  {
   "cell_type": "markdown",
   "id": "b5762c1d",
   "metadata": {},
   "source": [
    "### Missing Values Imputation"
   ]
  },
  {
   "cell_type": "code",
   "execution_count": 34,
   "id": "3e538a23",
   "metadata": {},
   "outputs": [
    {
     "data": {
      "text/plain": [
       "accident_year                                   0\n",
       "location_easting_osgr                           1\n",
       "location_northing_osgr                          1\n",
       "longitude                                  242876\n",
       "latitude                                   242876\n",
       "police_force                                    0\n",
       "accident_severity                               0\n",
       "number_of_vehicles                              0\n",
       "number_of_casualties                            0\n",
       "date                                            0\n",
       "day_of_week                                     0\n",
       "time                                            0\n",
       "local_authority_district                        0\n",
       "local_authority_ons_district                    0\n",
       "local_authority_highway                         0\n",
       "first_road_class                                0\n",
       "road_type                                    1232\n",
       "speed_limit                                     0\n",
       "junction_detail                                 0\n",
       "junction_control                                0\n",
       "second_road_class                               0\n",
       "pedestrian_crossing_human_control               0\n",
       "pedestrian_crossing_physical_facilities         0\n",
       "light_conditions                                0\n",
       "weather_conditions                           1277\n",
       "road_surface_conditions                         0\n",
       "special_conditions_at_site                      0\n",
       "carriageway_hazards                             0\n",
       "lsoa_of_accident_location                       0\n",
       "day_hour                                        0\n",
       "dtype: int64"
      ]
     },
     "execution_count": 34,
     "metadata": {},
     "output_type": "execute_result"
    }
   ],
   "source": [
    "# show the null values count in each column\n",
    "df1.isnull().sum()"
   ]
  },
  {
   "cell_type": "code",
   "execution_count": 35,
   "id": "368246b8",
   "metadata": {},
   "outputs": [],
   "source": [
    "#drop any col have more than 50 percent of data missing\n",
    "df1.drop(['longitude','latitude'],axis = 1,inplace = True)"
   ]
  },
  {
   "cell_type": "code",
   "execution_count": 36,
   "id": "f47ce768",
   "metadata": {},
   "outputs": [],
   "source": [
    "#replace the remaining value with mode \n",
    "for i in df1.loc[:,df1.isnull().sum() > 0].columns:\n",
    "    df1[i] = df1[i].fillna(df1[i].mode()[0])"
   ]
  },
  {
   "cell_type": "code",
   "execution_count": 37,
   "id": "cbc190da",
   "metadata": {},
   "outputs": [
    {
     "data": {
      "text/plain": [
       "accident_year                              0\n",
       "location_easting_osgr                      0\n",
       "location_northing_osgr                     0\n",
       "police_force                               0\n",
       "accident_severity                          0\n",
       "number_of_vehicles                         0\n",
       "number_of_casualties                       0\n",
       "date                                       0\n",
       "day_of_week                                0\n",
       "time                                       0\n",
       "local_authority_district                   0\n",
       "local_authority_ons_district               0\n",
       "local_authority_highway                    0\n",
       "first_road_class                           0\n",
       "road_type                                  0\n",
       "speed_limit                                0\n",
       "junction_detail                            0\n",
       "junction_control                           0\n",
       "second_road_class                          0\n",
       "pedestrian_crossing_human_control          0\n",
       "pedestrian_crossing_physical_facilities    0\n",
       "light_conditions                           0\n",
       "weather_conditions                         0\n",
       "road_surface_conditions                    0\n",
       "special_conditions_at_site                 0\n",
       "carriageway_hazards                        0\n",
       "lsoa_of_accident_location                  0\n",
       "day_hour                                   0\n",
       "dtype: int64"
      ]
     },
     "execution_count": 37,
     "metadata": {},
     "output_type": "execute_result"
    }
   ],
   "source": [
    "# test for null values()\n",
    "df1.isnull().sum()"
   ]
  },
  {
   "cell_type": "markdown",
   "id": "d2ef8be1",
   "metadata": {},
   "source": [
    "#### Clean undetacted missing values"
   ]
  },
  {
   "cell_type": "code",
   "execution_count": 84,
   "id": "4846d612",
   "metadata": {},
   "outputs": [],
   "source": [
    "# replace \"Data missing or out of range\" values by Nan(MCAR) and drop\n",
    "other_null_values = [\"Data missing or out of range\"]\n",
    "df1.replace(other_null_values, np.nan, inplace = True)\n",
    "df1.dropna(inplace = True)"
   ]
  },
  {
   "cell_type": "markdown",
   "id": "6ecbb9d2",
   "metadata": {},
   "source": [
    "### Outliers Detection"
   ]
  },
  {
   "cell_type": "code",
   "execution_count": 57,
   "id": "aeddb97f",
   "metadata": {
    "scrolled": false
   },
   "outputs": [
    {
     "name": "stderr",
     "output_type": "stream",
     "text": [
      "C:\\Users\\original\\anaconda3\\lib\\site-packages\\seaborn\\_decorators.py:36: FutureWarning: Pass the following variable as a keyword arg: x. From version 0.12, the only valid positional argument will be `data`, and passing other arguments without an explicit keyword will result in an error or misinterpretation.\n",
      "  warnings.warn(\n"
     ]
    },
    {
     "data": {
      "image/png": "[encoded data removed]",
      "text/plain": [
       "<Figure size 432x288 with 1 Axes>"
      ]
     },
     "metadata": {
      "needs_background": "light"
     },
     "output_type": "display_data"
    }
   ],
   "source": [
    "# plot boxplot for numeric values\n",
    "sns.boxplot(df1.number_of_casualties);"
   ]
  },
  {
   "cell_type": "code",
   "execution_count": 58,
   "id": "0c7e2927",
   "metadata": {},
   "outputs": [
    {
     "data": {
      "text/plain": [
       "1     199071\n",
       "2      31132\n",
       "3       7580\n",
       "4       3124\n",
       "5       1033\n",
       "6        472\n",
       "7        194\n",
       "8        100\n",
       "9         50\n",
       "10        17\n",
       "11        16\n",
       "12        11\n",
       "13         7\n",
       "15         6\n",
       "14         5\n",
       "17         4\n",
       "47         2\n",
       "20         2\n",
       "22         2\n",
       "24         2\n",
       "19         2\n",
       "18         2\n",
       "28         1\n",
       "35         1\n",
       "32         1\n",
       "21         1\n",
       "29         1\n",
       "50         1\n",
       "37         1\n",
       "26         1\n",
       "Name: number_of_casualties, dtype: int64"
      ]
     },
     "execution_count": 58,
     "metadata": {},
     "output_type": "execute_result"
    }
   ],
   "source": [
    "# value_counts for number_of_casualties\n",
    "df1.number_of_casualties.value_counts()"
   ]
  },
  {
   "cell_type": "code",
   "execution_count": 59,
   "id": "61df7558",
   "metadata": {},
   "outputs": [],
   "source": [
    "# impute outliers\n",
    "def casualties_outlier(x):\n",
    "    if x > 2:\n",
    "        x = 2\n",
    "    return x"
   ]
  },
  {
   "cell_type": "code",
   "execution_count": 60,
   "id": "30cf5eac",
   "metadata": {},
   "outputs": [],
   "source": [
    "df1.number_of_casualties = df1.number_of_casualties.apply(casualties_outlier)"
   ]
  },
  {
   "cell_type": "code",
   "execution_count": 61,
   "id": "7f2b7c9d",
   "metadata": {},
   "outputs": [
    {
     "data": {
      "text/plain": [
       "1    199071\n",
       "2     43771\n",
       "Name: number_of_casualties, dtype: int64"
      ]
     },
     "execution_count": 61,
     "metadata": {},
     "output_type": "execute_result"
    }
   ],
   "source": [
    "df1.number_of_casualties.value_counts()"
   ]
  },
  {
   "cell_type": "code",
   "execution_count": 62,
   "id": "56bcf094",
   "metadata": {},
   "outputs": [
    {
     "data": {
      "text/html": [
       "<div>\n",
       "<style scoped>\n",
       "    .dataframe tbody tr th:only-of-type {\n",
       "        vertical-align: middle;\n",
       "    }\n",
       "\n",
       "    .dataframe tbody tr th {\n",
       "        vertical-align: top;\n",
       "    }\n",
       "\n",
       "    .dataframe thead th {\n",
       "        text-align: right;\n",
       "    }\n",
       "</style>\n",
       "<table border=\"1\" class=\"dataframe\">\n",
       "  <thead>\n",
       "    <tr style=\"text-align: right;\">\n",
       "      <th></th>\n",
       "      <th>accident_year</th>\n",
       "      <th>location_easting_osgr</th>\n",
       "      <th>location_northing_osgr</th>\n",
       "      <th>police_force</th>\n",
       "      <th>accident_severity</th>\n",
       "      <th>number_of_vehicles</th>\n",
       "      <th>number_of_casualties</th>\n",
       "      <th>date</th>\n",
       "      <th>day_of_week</th>\n",
       "      <th>time</th>\n",
       "      <th>...</th>\n",
       "      <th>second_road_class</th>\n",
       "      <th>pedestrian_crossing_human_control</th>\n",
       "      <th>pedestrian_crossing_physical_facilities</th>\n",
       "      <th>light_conditions</th>\n",
       "      <th>weather_conditions</th>\n",
       "      <th>road_surface_conditions</th>\n",
       "      <th>special_conditions_at_site</th>\n",
       "      <th>carriageway_hazards</th>\n",
       "      <th>lsoa_of_accident_location</th>\n",
       "      <th>day_hour</th>\n",
       "    </tr>\n",
       "  </thead>\n",
       "  <tbody>\n",
       "    <tr>\n",
       "      <th>0</th>\n",
       "      <td>1983</td>\n",
       "      <td>530080.0</td>\n",
       "      <td>180430.0</td>\n",
       "      <td>Metropolitan Police</td>\n",
       "      <td>Slight</td>\n",
       "      <td>2</td>\n",
       "      <td>2</td>\n",
       "      <td>04/01/1983</td>\n",
       "      <td>Tuesday</td>\n",
       "      <td>01:35</td>\n",
       "      <td>...</td>\n",
       "      <td>A</td>\n",
       "      <td>None within 50 metres</td>\n",
       "      <td>Pedestrian phase at traffic signal junction</td>\n",
       "      <td>Darkness - lights lit</td>\n",
       "      <td>Raining + high winds</td>\n",
       "      <td>Wet or damp</td>\n",
       "      <td>None</td>\n",
       "      <td>None</td>\n",
       "      <td>-1</td>\n",
       "      <td>1</td>\n",
       "    </tr>\n",
       "    <tr>\n",
       "      <th>1</th>\n",
       "      <td>1983</td>\n",
       "      <td>530120.0</td>\n",
       "      <td>179580.0</td>\n",
       "      <td>Metropolitan Police</td>\n",
       "      <td>Slight</td>\n",
       "      <td>2</td>\n",
       "      <td>2</td>\n",
       "      <td>01/01/1983</td>\n",
       "      <td>Saturday</td>\n",
       "      <td>00:05</td>\n",
       "      <td>...</td>\n",
       "      <td>Unclassified</td>\n",
       "      <td>None within 50 metres</td>\n",
       "      <td>No physical crossing facilities within 50 metres</td>\n",
       "      <td>Darkness - lights lit</td>\n",
       "      <td>Fine no high winds</td>\n",
       "      <td>Dry</td>\n",
       "      <td>None</td>\n",
       "      <td>None</td>\n",
       "      <td>-1</td>\n",
       "      <td>0</td>\n",
       "    </tr>\n",
       "    <tr>\n",
       "      <th>2</th>\n",
       "      <td>1983</td>\n",
       "      <td>530060.0</td>\n",
       "      <td>180310.0</td>\n",
       "      <td>Metropolitan Police</td>\n",
       "      <td>Slight</td>\n",
       "      <td>1</td>\n",
       "      <td>1</td>\n",
       "      <td>05/01/1983</td>\n",
       "      <td>Wednesday</td>\n",
       "      <td>14:15</td>\n",
       "      <td>...</td>\n",
       "      <td>Unclassified</td>\n",
       "      <td>None within 50 metres</td>\n",
       "      <td>No physical crossing facilities within 50 metres</td>\n",
       "      <td>Daylight</td>\n",
       "      <td>Fine no high winds</td>\n",
       "      <td>Dry</td>\n",
       "      <td>None</td>\n",
       "      <td>None</td>\n",
       "      <td>-1</td>\n",
       "      <td>14</td>\n",
       "    </tr>\n",
       "    <tr>\n",
       "      <th>3</th>\n",
       "      <td>1983</td>\n",
       "      <td>530070.0</td>\n",
       "      <td>180420.0</td>\n",
       "      <td>Metropolitan Police</td>\n",
       "      <td>Slight</td>\n",
       "      <td>2</td>\n",
       "      <td>1</td>\n",
       "      <td>05/01/1983</td>\n",
       "      <td>Wednesday</td>\n",
       "      <td>22:10</td>\n",
       "      <td>...</td>\n",
       "      <td>A</td>\n",
       "      <td>None within 50 metres</td>\n",
       "      <td>Pedestrian phase at traffic signal junction</td>\n",
       "      <td>Darkness - lights lit</td>\n",
       "      <td>Fine + high winds</td>\n",
       "      <td>Wet or damp</td>\n",
       "      <td>None</td>\n",
       "      <td>None</td>\n",
       "      <td>-1</td>\n",
       "      <td>22</td>\n",
       "    </tr>\n",
       "    <tr>\n",
       "      <th>4</th>\n",
       "      <td>1983</td>\n",
       "      <td>530350.0</td>\n",
       "      <td>180300.0</td>\n",
       "      <td>Metropolitan Police</td>\n",
       "      <td>Slight</td>\n",
       "      <td>3</td>\n",
       "      <td>1</td>\n",
       "      <td>09/01/1983</td>\n",
       "      <td>Sunday</td>\n",
       "      <td>17:25</td>\n",
       "      <td>...</td>\n",
       "      <td>C</td>\n",
       "      <td>None within 50 metres</td>\n",
       "      <td>No physical crossing facilities within 50 metres</td>\n",
       "      <td>Darkness - lights lit</td>\n",
       "      <td>Fine no high winds</td>\n",
       "      <td>Dry</td>\n",
       "      <td>None</td>\n",
       "      <td>None</td>\n",
       "      <td>-1</td>\n",
       "      <td>17</td>\n",
       "    </tr>\n",
       "  </tbody>\n",
       "</table>\n",
       "<p>5 rows × 28 columns</p>\n",
       "</div>"
      ],
      "text/plain": [
       "   accident_year  location_easting_osgr  location_northing_osgr  \\\n",
       "0           1983               530080.0                180430.0   \n",
       "1           1983               530120.0                179580.0   \n",
       "2           1983               530060.0                180310.0   \n",
       "3           1983               530070.0                180420.0   \n",
       "4           1983               530350.0                180300.0   \n",
       "\n",
       "          police_force accident_severity  number_of_vehicles  \\\n",
       "0  Metropolitan Police            Slight                   2   \n",
       "1  Metropolitan Police            Slight                   2   \n",
       "2  Metropolitan Police            Slight                   1   \n",
       "3  Metropolitan Police            Slight                   2   \n",
       "4  Metropolitan Police            Slight                   3   \n",
       "\n",
       "   number_of_casualties        date day_of_week   time  ... second_road_class  \\\n",
       "0                     2  04/01/1983     Tuesday  01:35  ...                 A   \n",
       "1                     2  01/01/1983    Saturday  00:05  ...      Unclassified   \n",
       "2                     1  05/01/1983   Wednesday  14:15  ...      Unclassified   \n",
       "3                     1  05/01/1983   Wednesday  22:10  ...                 A   \n",
       "4                     1  09/01/1983      Sunday  17:25  ...                 C   \n",
       "\n",
       "   pedestrian_crossing_human_control  \\\n",
       "0             None within 50 metres    \n",
       "1             None within 50 metres    \n",
       "2             None within 50 metres    \n",
       "3             None within 50 metres    \n",
       "4             None within 50 metres    \n",
       "\n",
       "            pedestrian_crossing_physical_facilities       light_conditions  \\\n",
       "0       Pedestrian phase at traffic signal junction  Darkness - lights lit   \n",
       "1  No physical crossing facilities within 50 metres  Darkness - lights lit   \n",
       "2  No physical crossing facilities within 50 metres               Daylight   \n",
       "3       Pedestrian phase at traffic signal junction  Darkness - lights lit   \n",
       "4  No physical crossing facilities within 50 metres  Darkness - lights lit   \n",
       "\n",
       "     weather_conditions  road_surface_conditions special_conditions_at_site  \\\n",
       "0  Raining + high winds              Wet or damp                       None   \n",
       "1    Fine no high winds                      Dry                       None   \n",
       "2    Fine no high winds                      Dry                       None   \n",
       "3     Fine + high winds              Wet or damp                       None   \n",
       "4    Fine no high winds                      Dry                       None   \n",
       "\n",
       "  carriageway_hazards lsoa_of_accident_location day_hour  \n",
       "0                None                        -1        1  \n",
       "1                None                        -1        0  \n",
       "2                None                        -1       14  \n",
       "3                None                        -1       22  \n",
       "4                None                        -1       17  \n",
       "\n",
       "[5 rows x 28 columns]"
      ]
     },
     "execution_count": 62,
     "metadata": {},
     "output_type": "execute_result"
    }
   ],
   "source": [
    "df1.head()"
   ]
  },
  {
   "cell_type": "markdown",
   "id": "0d420be8",
   "metadata": {},
   "source": [
    "### Save copy to Integration"
   ]
  },
  {
   "cell_type": "code",
   "execution_count": 63,
   "id": "cb0de256",
   "metadata": {},
   "outputs": [],
   "source": [
    "# make a copy of the cleaned data to integrate df\n",
    "df_intgerate = df1.copy()"
   ]
  },
  {
   "cell_type": "code",
   "execution_count": 64,
   "id": "bdabdf5b",
   "metadata": {},
   "outputs": [],
   "source": [
    "# create a df with accident reference as id to integrate data based on it\n",
    "df_intgerate[\"accident_reference\"] = df[\"accident_reference\"]"
   ]
  },
  {
   "cell_type": "code",
   "execution_count": 65,
   "id": "8bef7a3d",
   "metadata": {},
   "outputs": [],
   "source": [
    "# save the cleaned data as csv\n",
    "df_intgerate.to_csv(\"accidents_1983.csv\")"
   ]
  },
  {
   "cell_type": "markdown",
   "id": "220ae6f9",
   "metadata": {},
   "source": [
    "# 3. Data Transformation  "
   ]
  },
  {
   "cell_type": "markdown",
   "id": "8aead084",
   "metadata": {},
   "source": [
    "### Feature Engineering  "
   ]
  },
  {
   "cell_type": "markdown",
   "id": "88c7a6ea",
   "metadata": {},
   "source": [
    "### 1. adding weeknumber columns"
   ]
  },
  {
   "cell_type": "code",
   "execution_count": 66,
   "id": "c6ee8f5c",
   "metadata": {},
   "outputs": [],
   "source": [
    "df['Week_Number'] = pd.to_datetime(df['date']).dt.isocalendar().week"
   ]
  },
  {
   "cell_type": "markdown",
   "id": "1c6f65e9",
   "metadata": {},
   "source": [
    "### 2. adding week_end feature"
   ]
  },
  {
   "cell_type": "code",
   "execution_count": 67,
   "id": "0a2eeac3",
   "metadata": {},
   "outputs": [],
   "source": [
    "def week_end(x):\n",
    "    if x in [\"Saturday\",'Sunday']:\n",
    "        return 1\n",
    "    else:\n",
    "        return 0"
   ]
  },
  {
   "cell_type": "code",
   "execution_count": 68,
   "id": "4212e29f",
   "metadata": {},
   "outputs": [],
   "source": [
    "df1['Week_end'] = df1['day_of_week'].apply(week_end)"
   ]
  },
  {
   "cell_type": "markdown",
   "id": "ec1dd0e2",
   "metadata": {},
   "source": [
    "### 3. adding winter condition feature "
   ]
  },
  {
   "cell_type": "code",
   "execution_count": 69,
   "id": "a730a06a",
   "metadata": {},
   "outputs": [],
   "source": [
    "def winter_condtion(x):\n",
    "    if x in ['Frost or ice','Snow']:\n",
    "        return 1\n",
    "    else:\n",
    "        return 0"
   ]
  },
  {
   "cell_type": "code",
   "execution_count": 70,
   "id": "b9124ca0",
   "metadata": {},
   "outputs": [],
   "source": [
    "df1['winter_condition'] = df1['road_surface_conditions'].apply(winter_condtion)"
   ]
  },
  {
   "cell_type": "markdown",
   "id": "742b988b",
   "metadata": {},
   "source": [
    "### Normalization"
   ]
  },
  {
   "cell_type": "code",
   "execution_count": 71,
   "id": "d8c6baf3",
   "metadata": {},
   "outputs": [
    {
     "data": {
      "text/plain": [
       "accident_year                   0.000000\n",
       "location_easting_osgr          -1.360850\n",
       "location_northing_osgr          1.127314\n",
       "number_of_vehicles              1.592312\n",
       "number_of_casualties            1.663707\n",
       "local_authority_ons_district    0.000000\n",
       "local_authority_highway         0.000000\n",
       "speed_limit                     1.298583\n",
       "lsoa_of_accident_location       0.000000\n",
       "day_hour                       -0.518360\n",
       "Week_end                        1.075346\n",
       "winter_condition                6.288591\n",
       "dtype: float64"
      ]
     },
     "execution_count": 71,
     "metadata": {},
     "output_type": "execute_result"
    }
   ],
   "source": [
    "df1.select_dtypes(np.number).skew()"
   ]
  },
  {
   "cell_type": "code",
   "execution_count": 72,
   "id": "89fc7ecc",
   "metadata": {},
   "outputs": [],
   "source": [
    "# there is some cols need to be normalzies meaning full cols with skewness more than .5\n",
    "normalize_cols = ['number_of_vehicles','number_of_casualties','speed_limit']\n",
    "for col in normalize_cols:\n",
    "    df1[col] = np.log1p(df1[col])"
   ]
  },
  {
   "cell_type": "code",
   "execution_count": 73,
   "id": "1edacf4c",
   "metadata": {},
   "outputs": [
    {
     "data": {
      "text/plain": [
       "accident_year                   0.000000\n",
       "location_easting_osgr          -1.360850\n",
       "location_northing_osgr          1.127314\n",
       "number_of_vehicles              0.327764\n",
       "number_of_casualties            1.663707\n",
       "local_authority_ons_district    0.000000\n",
       "local_authority_highway         0.000000\n",
       "speed_limit                     0.843269\n",
       "lsoa_of_accident_location       0.000000\n",
       "day_hour                       -0.518360\n",
       "Week_end                        1.075346\n",
       "winter_condition                6.288591\n",
       "dtype: float64"
      ]
     },
     "execution_count": 73,
     "metadata": {},
     "output_type": "execute_result"
    }
   ],
   "source": [
    "df1.select_dtypes(np.number).skew()"
   ]
  },
  {
   "cell_type": "markdown",
   "id": "726b94e0",
   "metadata": {},
   "source": [
    "### Encoding varibles"
   ]
  },
  {
   "cell_type": "code",
   "execution_count": 74,
   "id": "031001eb",
   "metadata": {},
   "outputs": [],
   "source": [
    "#converting date to seperate cols \n",
    "df1['date'] = pd.to_datetime(df1['date'])"
   ]
  },
  {
   "cell_type": "code",
   "execution_count": 75,
   "id": "1357fb6a",
   "metadata": {},
   "outputs": [],
   "source": [
    "df1['month'] = df1.date.dt.month\n",
    "df1['day'] = df1.date.dt.day"
   ]
  },
  {
   "cell_type": "code",
   "execution_count": 76,
   "id": "3a49f690",
   "metadata": {},
   "outputs": [],
   "source": [
    "# drop un required columns\n",
    "df1.drop(['date','accident_year'],axis = 1 , inplace = True)"
   ]
  },
  {
   "cell_type": "code",
   "execution_count": 77,
   "id": "fd2faaca",
   "metadata": {},
   "outputs": [
    {
     "data": {
      "text/plain": [
       "police_force                                 51\n",
       "accident_severity                             3\n",
       "day_of_week                                   7\n",
       "time                                       1416\n",
       "local_authority_district                    467\n",
       "first_road_class                              5\n",
       "road_type                                     4\n",
       "junction_detail                               9\n",
       "junction_control                              5\n",
       "second_road_class                             5\n",
       "pedestrian_crossing_human_control             4\n",
       "pedestrian_crossing_physical_facilities       6\n",
       "light_conditions                              5\n",
       "weather_conditions                            8\n",
       "road_surface_conditions                       5\n",
       "special_conditions_at_site                    6\n",
       "carriageway_hazards                           6\n",
       "dtype: int64"
      ]
     },
     "execution_count": 77,
     "metadata": {},
     "output_type": "execute_result"
    }
   ],
   "source": [
    "df1.select_dtypes(object).nunique()"
   ]
  },
  {
   "cell_type": "code",
   "execution_count": 78,
   "id": "29e39e61",
   "metadata": {},
   "outputs": [
    {
     "data": {
      "text/plain": [
       "0         01:35\n",
       "1         00:05\n",
       "2         14:15\n",
       "3         22:10\n",
       "4         17:25\n",
       "          ...  \n",
       "242871    04:50\n",
       "242872    23:35\n",
       "242873    07:30\n",
       "242874    14:00\n",
       "242875    12:00\n",
       "Name: time, Length: 242842, dtype: object"
      ]
     },
     "execution_count": 78,
     "metadata": {},
     "output_type": "execute_result"
    }
   ],
   "source": [
    "df1.time"
   ]
  },
  {
   "cell_type": "markdown",
   "id": "38d77aeb",
   "metadata": {},
   "source": [
    "### Convert time for bins "
   ]
  },
  {
   "cell_type": "code",
   "execution_count": 79,
   "id": "b6cdd1e3",
   "metadata": {},
   "outputs": [],
   "source": [
    "labels = ['00:00-05:59', '06:00-11:59', '12:00-17:59', '18:00-23:59']\n",
    "bins = [0, 6, 12, 18, 24]\n",
    "# add the bins to the dataframe\n",
    "df1['Time Bin'] = pd.cut(pd.to_datetime(df.time, format = \"%H:%M\").dt.hour, bins, labels=labels, right=False)\n",
    "df1.drop('time',axis = 1, inplace = True)"
   ]
  },
  {
   "cell_type": "markdown",
   "id": "b9e8af21",
   "metadata": {},
   "source": [
    "### using ordinalEncoding for first road class and second road class due to the col have grading "
   ]
  },
  {
   "cell_type": "code",
   "execution_count": 80,
   "id": "343f6661",
   "metadata": {},
   "outputs": [],
   "source": [
    "#we will ordinal encode first road class and second road class the resest of them will one hot encoding \n",
    "from sklearn.preprocessing import OrdinalEncoder\n",
    "encoder = OrdinalEncoder()\n",
    "df1['first_road_class'] = encoder.fit_transform(np.array(df1['first_road_class']).reshape(242842,-1))\n",
    "df1['second_road_class'] = encoder.fit_transform(np.array(df1['second_road_class']).reshape(242842,-1))"
   ]
  },
  {
   "cell_type": "markdown",
   "id": "cbe0a9c3",
   "metadata": {},
   "source": [
    "### One-hot Encoding"
   ]
  },
  {
   "cell_type": "markdown",
   "id": "7de4f14b",
   "metadata": {},
   "source": [
    "###   use one hot enconding to the remaing varibles cause lack of ordinal or pattern in data"
   ]
  },
  {
   "cell_type": "code",
   "execution_count": 81,
   "id": "875e2014",
   "metadata": {},
   "outputs": [],
   "source": [
    "df2 = pd.get_dummies(df1)"
   ]
  },
  {
   "cell_type": "markdown",
   "id": "d9b44049",
   "metadata": {},
   "source": [
    "###  Scaling the numerical data"
   ]
  },
  {
   "cell_type": "code",
   "execution_count": 82,
   "id": "3a7ec9e6",
   "metadata": {},
   "outputs": [],
   "source": [
    "from sklearn.preprocessing import StandardScaler\n",
    "sc = StandardScaler()\n",
    "df2[['number_of_vehicles','number_of_casualties','speed_limit']]=sc.fit_transform(df2[['number_of_vehicles','number_of_casualties','speed_limit']])"
   ]
  },
  {
   "cell_type": "code",
   "execution_count": 83,
   "id": "4c66d850",
   "metadata": {
    "scrolled": false
   },
   "outputs": [
    {
     "data": {
      "text/html": [
       "<div>\n",
       "<style scoped>\n",
       "    .dataframe tbody tr th:only-of-type {\n",
       "        vertical-align: middle;\n",
       "    }\n",
       "\n",
       "    .dataframe tbody tr th {\n",
       "        vertical-align: top;\n",
       "    }\n",
       "\n",
       "    .dataframe thead th {\n",
       "        text-align: right;\n",
       "    }\n",
       "</style>\n",
       "<table border=\"1\" class=\"dataframe\">\n",
       "  <thead>\n",
       "    <tr style=\"text-align: right;\">\n",
       "      <th></th>\n",
       "      <th>location_easting_osgr</th>\n",
       "      <th>location_northing_osgr</th>\n",
       "      <th>number_of_vehicles</th>\n",
       "      <th>number_of_casualties</th>\n",
       "      <th>local_authority_ons_district</th>\n",
       "      <th>local_authority_highway</th>\n",
       "      <th>first_road_class</th>\n",
       "      <th>speed_limit</th>\n",
       "      <th>second_road_class</th>\n",
       "      <th>lsoa_of_accident_location</th>\n",
       "      <th>...</th>\n",
       "      <th>carriageway_hazards_Dog on road</th>\n",
       "      <th>carriageway_hazards_None</th>\n",
       "      <th>carriageway_hazards_Other animal on road</th>\n",
       "      <th>carriageway_hazards_Other object on road</th>\n",
       "      <th>carriageway_hazards_Previous accident</th>\n",
       "      <th>carriageway_hazards_Vehicle load on road</th>\n",
       "      <th>Time Bin_00:00-05:59</th>\n",
       "      <th>Time Bin_06:00-11:59</th>\n",
       "      <th>Time Bin_12:00-17:59</th>\n",
       "      <th>Time Bin_18:00-23:59</th>\n",
       "    </tr>\n",
       "  </thead>\n",
       "  <tbody>\n",
       "    <tr>\n",
       "      <th>0</th>\n",
       "      <td>530080.0</td>\n",
       "      <td>180430.0</td>\n",
       "      <td>0.582532</td>\n",
       "      <td>2.132607</td>\n",
       "      <td>-1</td>\n",
       "      <td>-1</td>\n",
       "      <td>0.0</td>\n",
       "      <td>-0.592251</td>\n",
       "      <td>0.0</td>\n",
       "      <td>-1</td>\n",
       "      <td>...</td>\n",
       "      <td>0</td>\n",
       "      <td>1</td>\n",
       "      <td>0</td>\n",
       "      <td>0</td>\n",
       "      <td>0</td>\n",
       "      <td>0</td>\n",
       "      <td>1</td>\n",
       "      <td>0</td>\n",
       "      <td>0</td>\n",
       "      <td>0</td>\n",
       "    </tr>\n",
       "    <tr>\n",
       "      <th>1</th>\n",
       "      <td>530120.0</td>\n",
       "      <td>179580.0</td>\n",
       "      <td>0.582532</td>\n",
       "      <td>2.132607</td>\n",
       "      <td>-1</td>\n",
       "      <td>-1</td>\n",
       "      <td>0.0</td>\n",
       "      <td>-0.592251</td>\n",
       "      <td>4.0</td>\n",
       "      <td>-1</td>\n",
       "      <td>...</td>\n",
       "      <td>0</td>\n",
       "      <td>1</td>\n",
       "      <td>0</td>\n",
       "      <td>0</td>\n",
       "      <td>0</td>\n",
       "      <td>0</td>\n",
       "      <td>1</td>\n",
       "      <td>0</td>\n",
       "      <td>0</td>\n",
       "      <td>0</td>\n",
       "    </tr>\n",
       "    <tr>\n",
       "      <th>2</th>\n",
       "      <td>530060.0</td>\n",
       "      <td>180310.0</td>\n",
       "      <td>-1.106530</td>\n",
       "      <td>-0.468910</td>\n",
       "      <td>-1</td>\n",
       "      <td>-1</td>\n",
       "      <td>0.0</td>\n",
       "      <td>-0.592251</td>\n",
       "      <td>4.0</td>\n",
       "      <td>-1</td>\n",
       "      <td>...</td>\n",
       "      <td>0</td>\n",
       "      <td>1</td>\n",
       "      <td>0</td>\n",
       "      <td>0</td>\n",
       "      <td>0</td>\n",
       "      <td>0</td>\n",
       "      <td>0</td>\n",
       "      <td>0</td>\n",
       "      <td>1</td>\n",
       "      <td>0</td>\n",
       "    </tr>\n",
       "    <tr>\n",
       "      <th>3</th>\n",
       "      <td>530070.0</td>\n",
       "      <td>180420.0</td>\n",
       "      <td>0.582532</td>\n",
       "      <td>-0.468910</td>\n",
       "      <td>-1</td>\n",
       "      <td>-1</td>\n",
       "      <td>0.0</td>\n",
       "      <td>-0.592251</td>\n",
       "      <td>0.0</td>\n",
       "      <td>-1</td>\n",
       "      <td>...</td>\n",
       "      <td>0</td>\n",
       "      <td>1</td>\n",
       "      <td>0</td>\n",
       "      <td>0</td>\n",
       "      <td>0</td>\n",
       "      <td>0</td>\n",
       "      <td>0</td>\n",
       "      <td>0</td>\n",
       "      <td>0</td>\n",
       "      <td>1</td>\n",
       "    </tr>\n",
       "    <tr>\n",
       "      <th>4</th>\n",
       "      <td>530350.0</td>\n",
       "      <td>180300.0</td>\n",
       "      <td>1.780940</td>\n",
       "      <td>-0.468910</td>\n",
       "      <td>-1</td>\n",
       "      <td>-1</td>\n",
       "      <td>1.0</td>\n",
       "      <td>-0.592251</td>\n",
       "      <td>2.0</td>\n",
       "      <td>-1</td>\n",
       "      <td>...</td>\n",
       "      <td>0</td>\n",
       "      <td>1</td>\n",
       "      <td>0</td>\n",
       "      <td>0</td>\n",
       "      <td>0</td>\n",
       "      <td>0</td>\n",
       "      <td>0</td>\n",
       "      <td>0</td>\n",
       "      <td>1</td>\n",
       "      <td>0</td>\n",
       "    </tr>\n",
       "    <tr>\n",
       "      <th>...</th>\n",
       "      <td>...</td>\n",
       "      <td>...</td>\n",
       "      <td>...</td>\n",
       "      <td>...</td>\n",
       "      <td>...</td>\n",
       "      <td>...</td>\n",
       "      <td>...</td>\n",
       "      <td>...</td>\n",
       "      <td>...</td>\n",
       "      <td>...</td>\n",
       "      <td>...</td>\n",
       "      <td>...</td>\n",
       "      <td>...</td>\n",
       "      <td>...</td>\n",
       "      <td>...</td>\n",
       "      <td>...</td>\n",
       "      <td>...</td>\n",
       "      <td>...</td>\n",
       "      <td>...</td>\n",
       "      <td>...</td>\n",
       "      <td>...</td>\n",
       "    </tr>\n",
       "    <tr>\n",
       "      <th>242871</th>\n",
       "      <td>277400.0</td>\n",
       "      <td>610800.0</td>\n",
       "      <td>-1.106530</td>\n",
       "      <td>-0.468910</td>\n",
       "      <td>-1</td>\n",
       "      <td>-1</td>\n",
       "      <td>0.0</td>\n",
       "      <td>1.693032</td>\n",
       "      <td>4.0</td>\n",
       "      <td>-1</td>\n",
       "      <td>...</td>\n",
       "      <td>0</td>\n",
       "      <td>1</td>\n",
       "      <td>0</td>\n",
       "      <td>0</td>\n",
       "      <td>0</td>\n",
       "      <td>0</td>\n",
       "      <td>1</td>\n",
       "      <td>0</td>\n",
       "      <td>0</td>\n",
       "      <td>0</td>\n",
       "    </tr>\n",
       "    <tr>\n",
       "      <th>242872</th>\n",
       "      <td>319900.0</td>\n",
       "      <td>569100.0</td>\n",
       "      <td>0.582532</td>\n",
       "      <td>-0.468910</td>\n",
       "      <td>-1</td>\n",
       "      <td>-1</td>\n",
       "      <td>1.0</td>\n",
       "      <td>1.693032</td>\n",
       "      <td>4.0</td>\n",
       "      <td>-1</td>\n",
       "      <td>...</td>\n",
       "      <td>0</td>\n",
       "      <td>1</td>\n",
       "      <td>0</td>\n",
       "      <td>0</td>\n",
       "      <td>0</td>\n",
       "      <td>0</td>\n",
       "      <td>0</td>\n",
       "      <td>0</td>\n",
       "      <td>0</td>\n",
       "      <td>1</td>\n",
       "    </tr>\n",
       "    <tr>\n",
       "      <th>242873</th>\n",
       "      <td>298200.0</td>\n",
       "      <td>576200.0</td>\n",
       "      <td>-1.106530</td>\n",
       "      <td>-0.468910</td>\n",
       "      <td>-1</td>\n",
       "      <td>-1</td>\n",
       "      <td>0.0</td>\n",
       "      <td>-0.592251</td>\n",
       "      <td>4.0</td>\n",
       "      <td>-1</td>\n",
       "      <td>...</td>\n",
       "      <td>0</td>\n",
       "      <td>1</td>\n",
       "      <td>0</td>\n",
       "      <td>0</td>\n",
       "      <td>0</td>\n",
       "      <td>0</td>\n",
       "      <td>0</td>\n",
       "      <td>1</td>\n",
       "      <td>0</td>\n",
       "      <td>0</td>\n",
       "    </tr>\n",
       "    <tr>\n",
       "      <th>242874</th>\n",
       "      <td>205700.0</td>\n",
       "      <td>560500.0</td>\n",
       "      <td>1.780940</td>\n",
       "      <td>2.132607</td>\n",
       "      <td>-1</td>\n",
       "      <td>-1</td>\n",
       "      <td>4.0</td>\n",
       "      <td>-0.592251</td>\n",
       "      <td>4.0</td>\n",
       "      <td>-1</td>\n",
       "      <td>...</td>\n",
       "      <td>0</td>\n",
       "      <td>1</td>\n",
       "      <td>0</td>\n",
       "      <td>0</td>\n",
       "      <td>0</td>\n",
       "      <td>0</td>\n",
       "      <td>0</td>\n",
       "      <td>0</td>\n",
       "      <td>1</td>\n",
       "      <td>0</td>\n",
       "    </tr>\n",
       "    <tr>\n",
       "      <th>242875</th>\n",
       "      <td>291200.0</td>\n",
       "      <td>586300.0</td>\n",
       "      <td>0.582532</td>\n",
       "      <td>-0.468910</td>\n",
       "      <td>-1</td>\n",
       "      <td>-1</td>\n",
       "      <td>0.0</td>\n",
       "      <td>1.693032</td>\n",
       "      <td>2.0</td>\n",
       "      <td>-1</td>\n",
       "      <td>...</td>\n",
       "      <td>0</td>\n",
       "      <td>1</td>\n",
       "      <td>0</td>\n",
       "      <td>0</td>\n",
       "      <td>0</td>\n",
       "      <td>0</td>\n",
       "      <td>0</td>\n",
       "      <td>0</td>\n",
       "      <td>1</td>\n",
       "      <td>0</td>\n",
       "    </tr>\n",
       "  </tbody>\n",
       "</table>\n",
       "<p>242842 rows × 605 columns</p>\n",
       "</div>"
      ],
      "text/plain": [
       "        location_easting_osgr  location_northing_osgr  number_of_vehicles  \\\n",
       "0                    530080.0                180430.0            0.582532   \n",
       "1                    530120.0                179580.0            0.582532   \n",
       "2                    530060.0                180310.0           -1.106530   \n",
       "3                    530070.0                180420.0            0.582532   \n",
       "4                    530350.0                180300.0            1.780940   \n",
       "...                       ...                     ...                 ...   \n",
       "242871               277400.0                610800.0           -1.106530   \n",
       "242872               319900.0                569100.0            0.582532   \n",
       "242873               298200.0                576200.0           -1.106530   \n",
       "242874               205700.0                560500.0            1.780940   \n",
       "242875               291200.0                586300.0            0.582532   \n",
       "\n",
       "        number_of_casualties  local_authority_ons_district  \\\n",
       "0                   2.132607                            -1   \n",
       "1                   2.132607                            -1   \n",
       "2                  -0.468910                            -1   \n",
       "3                  -0.468910                            -1   \n",
       "4                  -0.468910                            -1   \n",
       "...                      ...                           ...   \n",
       "242871             -0.468910                            -1   \n",
       "242872             -0.468910                            -1   \n",
       "242873             -0.468910                            -1   \n",
       "242874              2.132607                            -1   \n",
       "242875             -0.468910                            -1   \n",
       "\n",
       "        local_authority_highway  first_road_class  speed_limit  \\\n",
       "0                            -1               0.0    -0.592251   \n",
       "1                            -1               0.0    -0.592251   \n",
       "2                            -1               0.0    -0.592251   \n",
       "3                            -1               0.0    -0.592251   \n",
       "4                            -1               1.0    -0.592251   \n",
       "...                         ...               ...          ...   \n",
       "242871                       -1               0.0     1.693032   \n",
       "242872                       -1               1.0     1.693032   \n",
       "242873                       -1               0.0    -0.592251   \n",
       "242874                       -1               4.0    -0.592251   \n",
       "242875                       -1               0.0     1.693032   \n",
       "\n",
       "        second_road_class  lsoa_of_accident_location  ...  \\\n",
       "0                     0.0                         -1  ...   \n",
       "1                     4.0                         -1  ...   \n",
       "2                     4.0                         -1  ...   \n",
       "3                     0.0                         -1  ...   \n",
       "4                     2.0                         -1  ...   \n",
       "...                   ...                        ...  ...   \n",
       "242871                4.0                         -1  ...   \n",
       "242872                4.0                         -1  ...   \n",
       "242873                4.0                         -1  ...   \n",
       "242874                4.0                         -1  ...   \n",
       "242875                2.0                         -1  ...   \n",
       "\n",
       "        carriageway_hazards_Dog on road  carriageway_hazards_None  \\\n",
       "0                                     0                         1   \n",
       "1                                     0                         1   \n",
       "2                                     0                         1   \n",
       "3                                     0                         1   \n",
       "4                                     0                         1   \n",
       "...                                 ...                       ...   \n",
       "242871                                0                         1   \n",
       "242872                                0                         1   \n",
       "242873                                0                         1   \n",
       "242874                                0                         1   \n",
       "242875                                0                         1   \n",
       "\n",
       "        carriageway_hazards_Other animal on road  \\\n",
       "0                                              0   \n",
       "1                                              0   \n",
       "2                                              0   \n",
       "3                                              0   \n",
       "4                                              0   \n",
       "...                                          ...   \n",
       "242871                                         0   \n",
       "242872                                         0   \n",
       "242873                                         0   \n",
       "242874                                         0   \n",
       "242875                                         0   \n",
       "\n",
       "        carriageway_hazards_Other object on road  \\\n",
       "0                                              0   \n",
       "1                                              0   \n",
       "2                                              0   \n",
       "3                                              0   \n",
       "4                                              0   \n",
       "...                                          ...   \n",
       "242871                                         0   \n",
       "242872                                         0   \n",
       "242873                                         0   \n",
       "242874                                         0   \n",
       "242875                                         0   \n",
       "\n",
       "        carriageway_hazards_Previous accident  \\\n",
       "0                                           0   \n",
       "1                                           0   \n",
       "2                                           0   \n",
       "3                                           0   \n",
       "4                                           0   \n",
       "...                                       ...   \n",
       "242871                                      0   \n",
       "242872                                      0   \n",
       "242873                                      0   \n",
       "242874                                      0   \n",
       "242875                                      0   \n",
       "\n",
       "        carriageway_hazards_Vehicle load on road  Time Bin_00:00-05:59  \\\n",
       "0                                              0                     1   \n",
       "1                                              0                     1   \n",
       "2                                              0                     0   \n",
       "3                                              0                     0   \n",
       "4                                              0                     0   \n",
       "...                                          ...                   ...   \n",
       "242871                                         0                     1   \n",
       "242872                                         0                     0   \n",
       "242873                                         0                     0   \n",
       "242874                                         0                     0   \n",
       "242875                                         0                     0   \n",
       "\n",
       "        Time Bin_06:00-11:59  Time Bin_12:00-17:59  Time Bin_18:00-23:59  \n",
       "0                          0                     0                     0  \n",
       "1                          0                     0                     0  \n",
       "2                          0                     1                     0  \n",
       "3                          0                     0                     1  \n",
       "4                          0                     1                     0  \n",
       "...                      ...                   ...                   ...  \n",
       "242871                     0                     0                     0  \n",
       "242872                     0                     0                     1  \n",
       "242873                     1                     0                     0  \n",
       "242874                     0                     1                     0  \n",
       "242875                     0                     1                     0  \n",
       "\n",
       "[242842 rows x 605 columns]"
      ]
     },
     "execution_count": 83,
     "metadata": {},
     "output_type": "execute_result"
    }
   ],
   "source": [
    "df2"
   ]
  }
 ],
 "metadata": {
  "kernelspec": {
   "display_name": "Python 3 (ipykernel)",
   "language": "python",
   "name": "python3"
  },
  "language_info": {
   "codemirror_mode": {
    "name": "ipython",
    "version": 3
   },
   "file_extension": ".py",
   "mimetype": "text/x-python",
   "name": "python",
   "nbconvert_exporter": "python",
   "pygments_lexer": "ipython3",
   "version": "3.9.7"
  }
 },
 "nbformat": 4,
 "nbformat_minor": 5
}
